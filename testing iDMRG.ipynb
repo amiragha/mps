{
 "cells": [
  {
   "cell_type": "code",
   "execution_count": null,
   "metadata": {},
   "outputs": [],
   "source": [
    "using Revise"
   ]
  },
  {
   "cell_type": "code",
   "execution_count": null,
   "metadata": {},
   "outputs": [],
   "source": [
    "push!(LOAD_PATH, \"/home/amir/work/mps/src/\");\n",
    "\n",
    "using MatrixProductStateTools\n",
    "using TensorNetAlgs"
   ]
  },
  {
   "cell_type": "code",
   "execution_count": null,
   "metadata": {},
   "outputs": [],
   "source": [
    "mpo = xxz_mpo(Float64, 4, 2, 1.0)\n",
    "\n",
    "rounds = 30\n",
    "envelope = ones(rounds)\n",
    "\n",
    "idmrg2site(mpo, 200, tol=1.e-8, rounds=rounds, envelope=envelope, verbose=true)"
   ]
  }
 ],
 "metadata": {
  "kernelspec": {
   "display_name": "Julia 1.1.0",
   "language": "julia",
   "name": "julia-1.1"
  },
  "language_info": {
   "file_extension": ".jl",
   "mimetype": "application/julia",
   "name": "julia",
   "version": "1.1.1"
  }
 },
 "nbformat": 4,
 "nbformat_minor": 2
}
