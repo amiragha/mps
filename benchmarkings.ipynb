{
 "cells": [
  {
   "cell_type": "code",
   "execution_count": 1,
   "metadata": {},
   "outputs": [],
   "source": [
    "using Revise"
   ]
  },
  {
   "cell_type": "code",
   "execution_count": 2,
   "metadata": {},
   "outputs": [
    {
     "name": "stderr",
     "output_type": "stream",
     "text": [
      "┌ Info: Recompiling stale cache file /home/amir/.julia/compiled/v1.2/TensorNetAlgs.ji for TensorNetAlgs [top-level]\n",
      "└ @ Base loading.jl:1240\n"
     ]
    }
   ],
   "source": [
    "push!(LOAD_PATH, \"/home/amir/work/mps/src/\")\n",
    "\n",
    "using QuantumModels\n",
    "using MatrixProductStateTools\n",
    "using SymTensors\n",
    "using TensorNetAlgs\n",
    "\n",
    "using KrylovKit\n",
    "using BenchmarkTools\n",
    "using FFTW\n",
    "using Plots\n",
    "using LaTeXStrings"
   ]
  },
  {
   "cell_type": "code",
   "execution_count": 4,
   "metadata": {},
   "outputs": [],
   "source": [
    "# leg info for a middle step of dmrg2site\n",
    "AAlegs = (STLeg(1, [2, 3, 4, 5, 6, 7, 8, 9], [6, 52, 167, 275, 275, 167, 52, 6]),\n",
    "    STLeg(1, [0, 1], [1, 1]),\n",
    "    STLeg(1, [0, 1], [1, 1]),\n",
    "    STLeg(-1, [3, 4, 5, 6, 7, 8, 9, 10], [8, 62, 178, 254, 252, 176, 62, 8]))\n",
    "\n",
    "ELlegs = (STLeg(-1, [2, 3, 4, 5, 6, 7, 8, 9], [6, 52, 167, 275, 275, 167, 52, 6]),\n",
    "    STLeg(-1, [-1, 0, 1], [4, 7, 4]),\n",
    "    STLeg(1, [2, 3, 4, 5, 6, 7, 8, 9], [6, 52, 167, 275, 275, 167, 52, 6]))\n",
    "\n",
    "ERlegs = (STLeg(1, [3, 4, 5, 6, 7, 8, 9, 10], [8, 62, 178, 254, 252, 176, 62, 8]),\n",
    "    STLeg(1, [-1, 0, 1], [4, 7, 4]),\n",
    "    STLeg(-1, [3, 4, 5, 6, 7, 8, 9, 10], [8, 62, 178, 254, 252, 176, 62, 8]))\n",
    "\n",
    "M1legs = (STLeg(1, [-1, 0, 1], [4, 7, 4]),\n",
    "    STLeg(1, [0, 1], [1, 1]),\n",
    "    STLeg(-1, [-1, 0, 1], [4, 7, 4]),\n",
    "    STLeg(-1, [0, 1], [1, 1]))\n",
    "\n",
    "M2legs = (STLeg(1, [-1, 0, 1], [4, 7, 4]),\n",
    "    STLeg(1, [0, 1], [1, 1]),\n",
    "    STLeg(-1, [-1, 0, 1], [4, 7, 4]),\n",
    "    STLeg(-1, [0, 1], [1, 1]))\n",
    "\n",
    "# making random SymTensor with these legs\n",
    "AA = rand(0, AAlegs)\n",
    "EL = rand(0, ELlegs)\n",
    "ER = rand(0, ERlegs)\n",
    "M1 = rand(0, M1legs)\n",
    "M2 = rand(0, M2legs);"
   ]
  },
  {
   "cell_type": "code",
   "execution_count": 5,
   "metadata": {},
   "outputs": [],
   "source": [
    "g() = @btime TensorNetAlgs._applymps2site(AA, EL, ER, M1, M2);"
   ]
  },
  {
   "cell_type": "code",
   "execution_count": 9,
   "metadata": {},
   "outputs": [
    {
     "name": "stdout",
     "output_type": "stream",
     "text": [
      "  3.152 s (78107 allocations: 1.25 GiB)\n"
     ]
    }
   ],
   "source": [
    "g();"
   ]
  },
  {
   "cell_type": "code",
   "execution_count": 10,
   "metadata": {},
   "outputs": [],
   "source": [
    "PROFILEVIEW_USEGTK = true\n",
    "using ProfileView\n",
    "using Profile\n",
    "Profile.init(n=10^7, delay=0.001)"
   ]
  },
  {
   "cell_type": "code",
   "execution_count": 11,
   "metadata": {},
   "outputs": [
    {
     "name": "stdout",
     "output_type": "stream",
     "text": [
      "  4.725 s (78107 allocations: 1.25 GiB)\n"
     ]
    },
    {
     "data": {
      "text/plain": [
       "Gtk.GtkWindowLeaf(name=\"\", parent, width-request=-1, height-request=-1, visible=TRUE, sensitive=TRUE, app-paintable=FALSE, can-focus=FALSE, has-focus=FALSE, is-focus=FALSE, focus-on-click=TRUE, can-default=FALSE, has-default=FALSE, receives-default=FALSE, composite-child=FALSE, style, events=0, no-show-all=FALSE, has-tooltip=FALSE, tooltip-markup=NULL, tooltip-text=NULL, window, opacity=1.000000, double-buffered, halign=GTK_ALIGN_FILL, valign=GTK_ALIGN_FILL, margin-left, margin-right, margin-start=0, margin-end=0, margin-top=0, margin-bottom=0, margin=0, hexpand=FALSE, vexpand=FALSE, hexpand-set=FALSE, vexpand-set=FALSE, expand=FALSE, scale-factor=1, border-width=0, resize-mode, child, type=GTK_WINDOW_TOPLEVEL, title=\"Profile\", role=NULL, resizable=TRUE, modal=FALSE, window-position=GTK_WIN_POS_NONE, default-width=-1, default-height=-1, destroy-with-parent=FALSE, hide-titlebar-when-maximized=FALSE, icon, icon-name=NULL, screen, type-hint=GDK_WINDOW_TYPE_HINT_NORMAL, skip-taskbar-hint=FALSE, skip-pager-hint=FALSE, urgency-hint=FALSE, accept-focus=TRUE, focus-on-map=TRUE, decorated=TRUE, deletable=TRUE, gravity=GDK_GRAVITY_NORTH_WEST, transient-for, attached-to, has-resize-grip, resize-grip-visible, application, is-active=TRUE, has-toplevel-focus=TRUE, startup-id, mnemonics-visible=FALSE, focus-visible=FALSE, is-maximized=FALSE)"
      ]
     },
     "execution_count": 11,
     "metadata": {},
     "output_type": "execute_result"
    }
   ],
   "source": [
    "@profview g()"
   ]
  },
  {
   "cell_type": "code",
   "execution_count": null,
   "metadata": {},
   "outputs": [],
   "source": []
  }
 ],
 "metadata": {
  "kernelspec": {
   "display_name": "Julia 1.2.0",
   "language": "julia",
   "name": "julia-1.2"
  },
  "language_info": {
   "file_extension": ".jl",
   "mimetype": "application/julia",
   "name": "julia",
   "version": "1.2.0"
  }
 },
 "nbformat": 4,
 "nbformat_minor": 4
}
