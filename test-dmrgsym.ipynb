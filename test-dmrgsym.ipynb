{
 "cells": [
  {
   "cell_type": "code",
   "execution_count": null,
   "metadata": {},
   "outputs": [],
   "source": [
    "using Revise"
   ]
  },
  {
   "cell_type": "code",
   "execution_count": null,
   "metadata": {},
   "outputs": [],
   "source": [
    "push!(LOAD_PATH, \"/home/amir/work/mps/src/\")\n",
    "\n",
    "using ExactDiagonalizationTools\n",
    "using MatrixProductStateTools\n",
    "using TensorNetAlgs\n",
    "using SymTensors\n",
    "using TensorOperations\n",
    "using KrylovKit\n",
    "\n",
    "using LinearAlgebra\n",
    "using Plots\n",
    "using LaTeXStrings"
   ]
  },
  {
   "cell_type": "code",
   "execution_count": null,
   "metadata": {},
   "outputs": [],
   "source": [
    "lx = 100\n",
    "maxdim = 200\n",
    "smps = SymMatrixProductState{Float64}(lx, 2, div(lx,2), noise=0.2);\n",
    "normalize!(smps)\n",
    "mps = MatrixProductState(smps)\n",
    "\n",
    "smpo = xxz_symmpo(Float64, lx, 2, 1.0)\n",
    "mpo = xxz_mpo(Float64, lx, 2 , 1.0)\n",
    "\n",
    "isometry = :R\n",
    "move_center!(mps, 1)\n",
    "move_center!(smps, 1)\n",
    "env = initialenv(mps, mpo, isometry=isometry)\n",
    "senv = initialenv(smps, smpo, isometry=isometry)\n"
   ]
  },
  {
   "cell_type": "code",
   "execution_count": null,
   "metadata": {},
   "outputs": [],
   "source": [
    "n_sweeps = 1\n",
    "for sweep = 1:n_sweeps\n",
    "    println(\"Starting sweep number $sweep\")\n",
    "    dmrg2sitesweep!(mps, mpo, env, maxdim, verbose=true)\n",
    "    #println()\n",
    "end"
   ]
  },
  {
   "cell_type": "code",
   "execution_count": null,
   "metadata": {},
   "outputs": [],
   "source": [
    "for sweep = 1:n_sweeps\n",
    "    println(\"Starting sweep number $sweep\")\n",
    "    dmrg2sitesweep!(smps, smpo, senv, maxdim, verbose=true)\n",
    "    #println()\n",
    "end"
   ]
  },
  {
   "cell_type": "code",
   "execution_count": null,
   "metadata": {},
   "outputs": [],
   "source": [
    "move_center!(mps, 5)"
   ]
  },
  {
   "cell_type": "code",
   "execution_count": null,
   "metadata": {},
   "outputs": [],
   "source": [
    "for i=1:lx\n",
    "    A = mps.matrices[i]\n",
    "    AL = reshape(A, prod(size(A)[1:2]), size(A,3))\n",
    "    AR = reshape(A, size(A,1), prod(size(A)[2:3]))\n",
    "    if AL' * AL ≈ I(size(AL,2))\n",
    "        println(\"L\")\n",
    "    elseif AR * AR' ≈ I(size(AR,1))\n",
    "        println(\"R\")\n",
    "    else\n",
    "        println(\"-\")\n",
    "    end\n",
    "end"
   ]
  },
  {
   "cell_type": "code",
   "execution_count": null,
   "metadata": {},
   "outputs": [],
   "source": [
    "move_center!(smps, lx)"
   ]
  },
  {
   "cell_type": "code",
   "execution_count": null,
   "metadata": {},
   "outputs": [],
   "source": [
    "for i=1:lx\n",
    "    if isleftisometry(SymMatrix(smps.matrices[i], [1,2], [3]))\n",
    "        println(\"L\")\n",
    "    elseif isrightisometry(SymMatrix(smps.matrices[i], [1], [2,3]))\n",
    "        println(\"R\")\n",
    "    else\n",
    "        println(\"-\")\n",
    "    end\n",
    "end"
   ]
  }
 ],
 "metadata": {
  "kernelspec": {
   "display_name": "Julia 1.2.0",
   "language": "julia",
   "name": "julia-1.2"
  },
  "language_info": {
   "file_extension": ".jl",
   "mimetype": "application/julia",
   "name": "julia",
   "version": "1.2.0"
  }
 },
 "nbformat": 4,
 "nbformat_minor": 4
}
