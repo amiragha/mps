{
 "cells": [
  {
   "cell_type": "code",
   "execution_count": null,
   "metadata": {},
   "outputs": [],
   "source": [
    "using Revise"
   ]
  },
  {
   "cell_type": "code",
   "execution_count": null,
   "metadata": {},
   "outputs": [],
   "source": [
    "push!(LOAD_PATH, \"/home/amir/work/mps/src/\")\n",
    "\n",
    "using ExactDiagonalizationTools\n",
    "using MatrixProductStateTools\n",
    "using TensorNetAlgs\n",
    "using SymTensors\n",
    "using TensorOperations\n",
    "using KrylovKit\n",
    "\n",
    "using Plots\n",
    "using LaTeXStrings"
   ]
  },
  {
   "cell_type": "code",
   "execution_count": null,
   "metadata": {},
   "outputs": [],
   "source": [
    "lx = 4\n",
    "maxdim = 40\n",
    "smps = SymMatrixProductState{Float64}(lx, 2, div(lx,2), noise=0.5);\n",
    "normalize!(smps)\n",
    "mps = MatrixProductState(smps)\n",
    "\n",
    "smpo = xxz_symmpo(Float64, lx, 2, 1.0)\n",
    "mpo = MatrixProductOperator(smpo)\n",
    "\n",
    "env = initialenv(mps, mpo)\n",
    "senv = initialenv(smps, smpo)\n",
    "3"
   ]
  },
  {
   "cell_type": "code",
   "execution_count": null,
   "metadata": {},
   "outputs": [],
   "source": [
    "n_sweeps = 1\n",
    "for sweep = 1:n_sweeps\n",
    "    println(\"Starting sweep number $sweep\")\n",
    "    dmrg2sitesweep!(mps, mpo, env, maxdim, verbose=true)\n",
    "    #println()\n",
    "end"
   ]
  },
  {
   "cell_type": "code",
   "execution_count": null,
   "metadata": {},
   "outputs": [],
   "source": [
    "for sweep = 1:n_sweeps\n",
    "    println(\"Starting sweep number $sweep\")\n",
    "    dmrg2sitesweep!(smps, smpo, senv, maxdim, verbose=true)\n",
    "    #println()\n",
    "end"
   ]
  },
  {
   "cell_type": "code",
   "execution_count": null,
   "metadata": {},
   "outputs": [],
   "source": []
  }
 ],
 "metadata": {
  "kernelspec": {
   "display_name": "Julia 1.2.0",
   "language": "julia",
   "name": "julia-1.2"
  },
  "language_info": {
   "file_extension": ".jl",
   "mimetype": "application/julia",
   "name": "julia",
   "version": "1.2.0"
  }
 },
 "nbformat": 4,
 "nbformat_minor": 2
}
