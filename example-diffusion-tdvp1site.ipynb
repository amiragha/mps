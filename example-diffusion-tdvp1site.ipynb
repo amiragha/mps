{
 "cells": [
  {
   "cell_type": "code",
   "execution_count": 1,
   "metadata": {},
   "outputs": [
    {
     "name": "stderr",
     "output_type": "stream",
     "text": [
      "┌ Info: Recompiling stale cache file /home/amir/.julia/compiled/v1.1/Revise/M1Qoh.ji for Revise [295af30f-e4ad-537b-8983-00126c2a3abe]\n",
      "└ @ Base loading.jl:1184\n"
     ]
    }
   ],
   "source": [
    "using Revise"
   ]
  },
  {
   "cell_type": "code",
   "execution_count": 2,
   "metadata": {},
   "outputs": [],
   "source": [
    "push!(LOAD_PATH, \"/home/amir/work/mps/src/\")\n",
    "\n",
    "using ExactDiagonalizationTools\n",
    "using MatrixProductStateTools\n",
    "using TensorNetAlgs\n",
    "using Plots"
   ]
  },
  {
   "cell_type": "code",
   "execution_count": 3,
   "metadata": {},
   "outputs": [
    {
     "data": {
      "text/plain": [
       "10"
      ]
     },
     "execution_count": 3,
     "metadata": {},
     "output_type": "execute_result"
    }
   ],
   "source": [
    "lx = 41\n",
    "delta = 2. #ratio of Jz to Jp\n",
    "r = 0.6\n",
    "maxdim = 16\n",
    "dt = 0.05\n",
    "\n",
    "nsteps = 40\n",
    "nsamples = 10"
   ]
  },
  {
   "cell_type": "code",
   "execution_count": null,
   "metadata": {},
   "outputs": [
    {
     "name": "stdout",
     "output_type": "stream",
     "text": [
      "Sample 1, spin 0, time : 0.0\n",
      "Sample 1, spin 0, time : 0.1\n",
      "Sample 1, spin 0, time : 0.2\n",
      "Sample 1, spin 0, time : 0.3\n",
      "Sample 1, spin 0, time : 0.4\n",
      "Sample 1, spin 0, time : 0.5\n",
      "Sample 1, spin 0, time : 0.6\n",
      "Sample 1, spin 0, time : 0.7\n",
      "Sample 1, spin 0, time : 0.8\n",
      "Sample 1, spin 0, time : 0.9\n",
      "Sample 1, spin 0, time : 1.0\n",
      "Sample 1, spin 0, time : 1.1\n",
      "Sample 1, spin 0, time : 1.2\n",
      "Sample 1, spin 0, time : 1.3\n",
      "Sample 1, spin 0, time : 1.4\n",
      "Sample 1, spin 0, time : 1.5\n",
      "Sample 1, spin 0, time : 1.6\n",
      "Sample 1, spin 0, time : 1.7\n",
      "Sample 1, spin 0, time : 1.8\n",
      "Sample 1, spin 0, time : 1.9\n",
      "Sample 1, spin 0, time : 2.0\n",
      "Sample 1, spin 1, time : 0.0\n",
      "Sample 1, spin 1, time : 0.1\n",
      "Sample 1, spin 1, time : 0.2\n",
      "Sample 1, spin 1, time : 0.3\n",
      "Sample 1, spin 1, time : 0.4\n",
      "Sample 1, spin 1, time : 0.5\n",
      "Sample 1, spin 1, time : 0.6\n",
      "Sample 1, spin 1, time : 0.7\n",
      "Sample 1, spin 1, time : 0.8\n",
      "Sample 1, spin 1, time : 0.9\n",
      "Sample 1, spin 1, time : 1.0\n",
      "Sample 1, spin 1, time : 1.1\n",
      "Sample 1, spin 1, time : 1.2\n",
      "Sample 1, spin 1, time : 1.3\n",
      "Sample 1, spin 1, time : 1.4\n",
      "Sample 1, spin 1, time : 1.5\n",
      "Sample 1, spin 1, time : 1.6\n",
      "Sample 1, spin 1, time : 1.7\n",
      "Sample 1, spin 1, time : 1.8\n",
      "Sample 1, spin 1, time : 1.9\n",
      "Sample 1, spin 1, time : 2.0\n",
      "Sample 2, spin 0, time : 0.0\n",
      "Sample 2, spin 0, time : 0.1\n",
      "Sample 2, spin 0, time : 0.2\n",
      "Sample 2, spin 0, time : 0.3\n",
      "Sample 2, spin 0, time : 0.4\n",
      "Sample 2, spin 0, time : 0.5\n",
      "Sample 2, spin 0, time : 0.6\n",
      "Sample 2, spin 0, time : 0.7\n",
      "Sample 2, spin 0, time : 0.8\n",
      "Sample 2, spin 0, time : 0.9\n",
      "Sample 2, spin 0, time : 1.0\n",
      "Sample 2, spin 0, time : 1.1\n",
      "Sample 2, spin 0, time : 1.2\n",
      "Sample 2, spin 0, time : 1.3\n",
      "Sample 2, spin 0, time : 1.4\n",
      "Sample 2, spin 0, time : 1.5\n",
      "Sample 2, spin 0, time : 1.6\n",
      "Sample 2, spin 0, time : 1.7\n",
      "Sample 2, spin 0, time : 1.8\n",
      "Sample 2, spin 0, time : 1.9\n",
      "Sample 2, spin 0, time : 2.0\n",
      "Sample 2, spin 1, time : 0.0\n",
      "Sample 2, spin 1, time : 0.1\n",
      "Sample 2, spin 1, time : 0.2\n",
      "Sample 2, spin 1, time : 0.3\n",
      "Sample 2, spin 1, time : 0.4\n",
      "Sample 2, spin 1, time : 0.5\n",
      "Sample 2, spin 1, time : 0.6\n",
      "Sample 2, spin 1, time : 0.7\n",
      "Sample 2, spin 1, time : 0.8\n",
      "Sample 2, spin 1, time : 0.9\n",
      "Sample 2, spin 1, time : 1.0\n",
      "Sample 2, spin 1, time : 1.1\n",
      "Sample 2, spin 1, time : 1.2\n",
      "Sample 2, spin 1, time : 1.3\n",
      "Sample 2, spin 1, time : 1.4\n",
      "Sample 2, spin 1, time : 1.5\n",
      "Sample 2, spin 1, time : 1.6\n",
      "Sample 2, spin 1, time : 1.7\n",
      "Sample 2, spin 1, time : 1.8\n",
      "Sample 2, spin 1, time : 1.9\n",
      "Sample 2, spin 1, time : 2.0\n",
      "Sample 3, spin 0, time : 0.0\n",
      "Sample 3, spin 0, time : 0.1\n",
      "Sample 3, spin 0, time : 0.2\n",
      "Sample 3, spin 0, time : 0.3\n"
     ]
    }
   ],
   "source": [
    "mpo = xxzlong_mpo(ComplexF64, lx, 2, delta, r)\n",
    "mpoc = convert(MatrixProductOperator{ComplexF64}, mpo)\n",
    "sz = Matrix(sz_half)\n",
    "\n",
    "alldata = []\n",
    "for sample in 1:nsamples\n",
    "    conf = rand(0:1, lx)\n",
    "    for k in [0,1]\n",
    "        zdata = Vector{Float64}[]\n",
    "        conf[div(lx, 2)+1] = k\n",
    "        mps = MatrixProductState{ComplexF64}(lx, 2, conf, maxdim, 1.0e-6)\n",
    "        #normalize!(mps)\n",
    "        push!(zdata, (-1)^k .* real.(measure_1point(mps, sz)))\n",
    "        println(\"Sample $sample, spin $k, time : 0.0\")\n",
    "\n",
    "        env = initialenv(mps, mpoc)\n",
    "        for t in dt:dt:nsteps*dt\n",
    "            tdvp1sitesweep!(dt, mps, mpoc, env, verbose=false)\n",
    "            if abs(round(t,digits=1)-t) ≈ 0.\n",
    "                push!(zdata, (-1)^k .* real.(measure_1point(mps, sz)))\n",
    "                println(\"Sample $sample, spin $k, time : $t\")\n",
    "            end\n",
    "        end\n",
    "        push!(alldata, zdata)\n",
    "    end\n",
    "end"
   ]
  },
  {
   "cell_type": "code",
   "execution_count": null,
   "metadata": {},
   "outputs": [],
   "source": [
    "p=plot()\n",
    "for t in 1:Int(nsteps*dt)+1\n",
    "    avgdata = zeros(length(alldata[1][1]))\n",
    "    for sample in 1:nsamples\n",
    "        avgdata += 2*alldata[sample][t]\n",
    "    end\n",
    "    plot!(p, avgdata)\n",
    "end\n",
    "p"
   ]
  },
  {
   "cell_type": "code",
   "execution_count": null,
   "metadata": {},
   "outputs": [],
   "source": []
  }
 ],
 "metadata": {
  "kernelspec": {
   "display_name": "Julia 1.1.1",
   "language": "julia",
   "name": "julia-1.1"
  },
  "language_info": {
   "file_extension": ".jl",
   "mimetype": "application/julia",
   "name": "julia",
   "version": "1.1.1"
  }
 },
 "nbformat": 4,
 "nbformat_minor": 2
}
