{
 "cells": [
  {
   "cell_type": "code",
   "execution_count": null,
   "metadata": {},
   "outputs": [],
   "source": [
    "using Revise"
   ]
  },
  {
   "cell_type": "code",
   "execution_count": null,
   "metadata": {},
   "outputs": [],
   "source": [
    "push!(LOAD_PATH, \"/home/amir/work/mps/src/\")\n",
    "\n",
    "using ExactDiagonalizationTools\n",
    "using MatrixProductStateTools\n",
    "using TensorNetAlgs\n",
    "using Plots"
   ]
  },
  {
   "cell_type": "code",
   "execution_count": null,
   "metadata": {},
   "outputs": [],
   "source": [
    "lx = 31\n",
    "delta = 2. #ratio of Jz to Jp\n",
    "r = 0.6\n",
    "maxdim = 40\n",
    "dt = 0.1\n",
    "\n",
    "samples=10\n",
    "nsteps = 40\n",
    "nsamples = 10"
   ]
  },
  {
   "cell_type": "code",
   "execution_count": null,
   "metadata": {},
   "outputs": [],
   "source": [
    "mpo = xxzlong_mpo(ComplexF64, lx, 2, delta, r)\n",
    "sz = Matrix(sz_half)\n",
    "\n",
    "ts = 0:Int(nsteps*dt)\n",
    "\n",
    "alldata = []\n",
    "for sample in 1:nsamples\n",
    "    conf = rand(0:1, lx)\n",
    "    for k in [0,1]\n",
    "        zdata = Vector{Float64}[]\n",
    "        conf[div(lx, 2)+1] = k\n",
    "        mps = MatrixProductState{ComplexF64}(lx, 2, conf, maxdim, 1.0e-6)\n",
    "        #normalize!(mps)\n",
    "        push!(zdata, (-1)^k .* real.(measure_1point(mps, sz)))\n",
    "        println(\"Sample $sample, spin $k, time : 0.0\")\n",
    "\n",
    "        mpoc = convert(MatrixProductOperator{ComplexF64}, mpo)\n",
    "        env = initialenv(mps, mpoc)\n",
    "\n",
    "        for t in dt:dt:nsteps*dt\n",
    "            tdvp1sitesweep!(dt, mps, mpoc, env, verbose=false)\n",
    "            if abs(round(t)-t) ≈ 0.\n",
    "                push!(zdata, real.(measure_1point(mps, sz)))\n",
    "                println(\"Sample $sample, spin $k, time : $t\")\n",
    "            end\n",
    "        end\n",
    "        push!(alldata, zdata)\n",
    "    end\n",
    "end"
   ]
  },
  {
   "cell_type": "code",
   "execution_count": null,
   "metadata": {},
   "outputs": [],
   "source": []
  }
 ],
 "metadata": {
  "kernelspec": {
   "display_name": "Julia 1.1.0",
   "language": "julia",
   "name": "julia-1.1"
  },
  "language_info": {
   "file_extension": ".jl",
   "mimetype": "application/julia",
   "name": "julia",
   "version": "1.1.1"
  }
 },
 "nbformat": 4,
 "nbformat_minor": 2
}
