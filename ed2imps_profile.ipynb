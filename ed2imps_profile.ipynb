{
 "cells": [
  {
   "cell_type": "code",
   "execution_count": null,
   "metadata": {},
   "outputs": [],
   "source": [
    "using Revise"
   ]
  },
  {
   "cell_type": "code",
   "execution_count": null,
   "metadata": {},
   "outputs": [],
   "source": [
    "push!(LOAD_PATH, \"/home/amir/work/mps/src/\")\n",
    "\n",
    "using LinearAlgebra\n",
    "using KrylovKit\n",
    "using QuadGK\n",
    "using Plots\n",
    "using LaTeXStrings\n",
    "\n",
    "using ExactDiagonalizationTools\n",
    "using MatrixProductStateTools"
   ]
  },
  {
   "cell_type": "code",
   "execution_count": null,
   "metadata": {},
   "outputs": [],
   "source": [
    "xs = -1:0.01:1\n",
    "sigmoid(x) = 1/(1. + exp(-x))\n",
    "f2(x) = -0.03 .+ sigmoid.(-11.1 *abs(x) + 5.6)\n",
    "#plot(xs, f2.(xs))"
   ]
  },
  {
   "cell_type": "code",
   "execution_count": null,
   "metadata": {},
   "outputs": [],
   "source": [
    "maxdim = 40\n",
    "gs = collect(0.8:0.1:1.2)\n",
    "lxs = [2*n+1 for n=2:7]\n",
    "\n",
    "data = Dict{Int, Vector{Float64}}()\n",
    "envelopes = Vector{Float64}[]\n",
    "rs = Vector{Float64}[]\n",
    "\n",
    "for lx in lxs\n",
    "    r = -(lx/2 .- collect(1:lx))./(lx/2)\n",
    "    envelope = f2.(r) \n",
    "    envelope = envelope ./ maximum(envelope)\n",
    "    #envelope = ones(lx)\n",
    "    \n",
    "    push!(rs, r)\n",
    "    push!(envelopes, envelope)\n",
    "    \n",
    "    gdata = Float64[]\n",
    "    for g in gs\n",
    "        h = qitf_hamiltonian(lx, g, envelope=envelope) \n",
    "        bond = qitf_bondtensor(g)\n",
    "        es, vs = eigsolve(h, 1, :SR)\n",
    "        imps = ketstate2imps(vs[1], lx, 2, maxdim=maxdim)\n",
    "        e_imps = measure_bond(imps, bond)\n",
    "\n",
    "        e_exact, e_exact_err = quadgk(k -> -sqrt(1+g^2-2*g*cos(k))/pi, 0, pi)\n",
    "        push!(gdata, e_imps-e_exact)\n",
    "    end\n",
    "    data[lx] = gdata\n",
    "end\n",
    "\n",
    "### PLOTTING ###\n",
    "p1 = plot(xaxis=(L\"$g$\"), \n",
    "    yaxis=((1.e-5, 2.e-2),L\"$E - E_{\\infty}$\", :log, [10. ^-i for i in 2:2:10]), \n",
    "    marker=(:o))\n",
    "for lx in lxs\n",
    "    plot!(p1, gs, data[lx], marker=(:c), label=latexstring(\"L = $lx\"))\n",
    "end\n",
    "p2 = plot(yaxis=(\"envelope\", (-0.1,1.1)), legend=false)\n",
    "for i in eachindex(envelopes)\n",
    "    plot!(p2, rs[i], envelopes[i])\n",
    "end\n",
    "p = plot(p1, p2, layout=@layout [a; b{.3h}])"
   ]
  },
  {
   "cell_type": "code",
   "execution_count": null,
   "metadata": {},
   "outputs": [],
   "source": [
    "savefig(p, \"sigmoid_slightshift.png\")"
   ]
  }
 ],
 "metadata": {
  "kernelspec": {
   "display_name": "Julia 1.1.0",
   "language": "julia",
   "name": "julia-1.1"
  },
  "language_info": {
   "file_extension": ".jl",
   "mimetype": "application/julia",
   "name": "julia",
   "version": "1.1.1"
  }
 },
 "nbformat": 4,
 "nbformat_minor": 2
}
