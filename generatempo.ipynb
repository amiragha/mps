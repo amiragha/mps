{
 "cells": [
  {
   "cell_type": "code",
   "execution_count": 12,
   "metadata": {},
   "outputs": [],
   "source": [
    "using SparseArrays\n",
    "using LinearAlgebra"
   ]
  },
  {
   "cell_type": "code",
   "execution_count": 13,
   "metadata": {},
   "outputs": [
    {
     "data": {
      "text/plain": [
       "16×16 SparseMatrixCSC{Float64,Int64} with 28 stored entries:\n",
       "  [1 ,  1]  =  2.0\n",
       "  [3 ,  2]  =  1.0\n",
       "  [9 ,  2]  =  1.0\n",
       "  [2 ,  3]  =  1.0\n",
       "  [5 ,  3]  =  1.0\n",
       "  [7 ,  4]  =  1.0\n",
       "  [10,  4]  =  1.0\n",
       "  [3 ,  5]  =  1.0\n",
       "  [9 ,  5]  =  1.0\n",
       "  [11,  6]  =  2.0\n",
       "  [4 ,  7]  =  1.0\n",
       "  [13,  7]  =  1.0\n",
       "  ⋮\n",
       "  [5 ,  9]  =  1.0\n",
       "  [4 , 10]  =  1.0\n",
       "  [13, 10]  =  1.0\n",
       "  [6 , 11]  =  2.0\n",
       "  [8 , 12]  =  1.0\n",
       "  [14, 12]  =  1.0\n",
       "  [7 , 13]  =  1.0\n",
       "  [10, 13]  =  1.0\n",
       "  [12, 14]  =  1.0\n",
       "  [15, 14]  =  1.0\n",
       "  [8 , 15]  =  1.0\n",
       "  [14, 15]  =  1.0\n",
       "  [16, 16]  =  2.0"
      ]
     },
     "execution_count": 13,
     "metadata": {},
     "output_type": "execute_result"
    }
   ],
   "source": [
    "# The ring exchange operator is defined by its action on the ising basis\n",
    "# P_{1234} |abcd> = |bcda>\n",
    "P4 = zeros(2^4, 2^4)\n",
    "for j=1:2^4\n",
    "    i = ((j-1) >> 1) | (((j-1) & 1) << 3)\n",
    "    P4[i+1, j] = 1\n",
    "end\n",
    "sparse(P4)\n",
    "R = P4 + P4'\n",
    "sparse(R)"
   ]
  },
  {
   "cell_type": "code",
   "execution_count": 29,
   "metadata": {},
   "outputs": [
    {
     "name": "stdout",
     "output_type": "stream",
     "text": [
      "ZZZZ  4.0\n",
      "MPZZ  2.0\n",
      "PMZZ  2.0\n",
      "EEZZ  1.0\n",
      "MZPZ  -2.0\n",
      "ZMPZ  2.0\n",
      "PZMZ  -2.0\n",
      "ZPMZ  2.0\n",
      "EZEZ  1.0\n",
      "ZEEZ  1.0\n",
      "MZZP  2.0\n",
      "ZMZP  -2.0\n",
      "ZZMP  2.0\n",
      "MPMP  2.0\n",
      "EEMP  0.5\n",
      "EMEP  0.5\n",
      "MEEP  0.5\n",
      "PZZM  2.0\n",
      "ZPZM  -2.0\n",
      "ZZPM  2.0\n",
      "PMPM  2.0\n",
      "EEPM  0.5\n",
      "EPEM  0.5\n",
      "PEEM  0.5\n",
      "EZZE  1.0\n",
      "ZEZE  1.0\n",
      "EMPE  0.5\n",
      "MEPE  0.5\n",
      "EPME  0.5\n",
      "PEME  0.5\n",
      "ZZEE  1.0\n",
      "MPEE  0.5\n",
      "PMEE  0.5\n",
      "EEEE  0.25\n"
     ]
    }
   ],
   "source": [
    "⊗ = kron\n",
    "Z = [0.5 0; 0 -0.5]\n",
    "P = [0.  1; 0    0]\n",
    "M = P'\n",
    "E = I(2)\n",
    "ops = [Z, P, M, E]\n",
    "ols = ['Z', 'P', 'M', 'E']\n",
    "H = R\n",
    "n=4\n",
    "for (i,j,k,l) in Iterators.product([1:4 for i=1:n]...)\n",
    "    op = ops[i] ⊗ ops[j] ⊗ ops[k] ⊗ ops[l]\n",
    "    opnorm = norm(op)\n",
    "    amp = dot(H, op)/norm(op)^2\n",
    "    amp == 0 || println(ols[i], ols[j], ols[k], ols[l], \"  $amp\")\n",
    "end"
   ]
  },
  {
   "cell_type": "code",
   "execution_count": null,
   "metadata": {},
   "outputs": [],
   "source": [
    "QInteraction \n",
    "# lets make the J1, J2 model with ring exchange\n",
    "lx, ly = 8, 1\n",
    "ucn = 1\n",
    "d=2\n",
    "# system is one-dimensional so the ordering of sites is trivial\n",
    "for i = 1:lx\n",
    "    for j = 1:ly\n",
    "        # all the terms defined in this unitcell\n",
    "        (heis, J1, 1, 2)\n",
    "        (heis, J2, 1, 3)\n",
    "        \n",
    "        \n",
    "            \n",
    "    \n",
    "    \n"
   ]
  }
 ],
 "metadata": {
  "kernelspec": {
   "display_name": "Julia 1.2.0",
   "language": "julia",
   "name": "julia-1.2"
  },
  "language_info": {
   "file_extension": ".jl",
   "mimetype": "application/julia",
   "name": "julia",
   "version": "1.2.0"
  }
 },
 "nbformat": 4,
 "nbformat_minor": 4
}
