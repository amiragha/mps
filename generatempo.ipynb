{
 "cells": [
  {
   "cell_type": "code",
   "execution_count": 2,
   "metadata": {},
   "outputs": [],
   "source": [
    "using Revise"
   ]
  },
  {
   "cell_type": "code",
   "execution_count": 19,
   "metadata": {},
   "outputs": [],
   "source": [
    "push!(LOAD_PATH, \"/home/amir/work/mps/src/\")\n",
    "\n",
    "using LinearAlgebra\n",
    "using SparseArrays\n",
    "using QuantumModel"
   ]
  },
  {
   "cell_type": "code",
   "execution_count": 13,
   "metadata": {},
   "outputs": [
    {
     "data": {
      "text/plain": [
       "16×16 SparseArrays.SparseMatrixCSC{Float64,Int64} with 28 stored entries:\n",
       "  [1 ,  1]  =  2.0\n",
       "  [3 ,  2]  =  1.0\n",
       "  [9 ,  2]  =  1.0\n",
       "  [2 ,  3]  =  1.0\n",
       "  [5 ,  3]  =  1.0\n",
       "  [7 ,  4]  =  1.0\n",
       "  [10,  4]  =  1.0\n",
       "  [3 ,  5]  =  1.0\n",
       "  [9 ,  5]  =  1.0\n",
       "  [11,  6]  =  2.0\n",
       "  [4 ,  7]  =  1.0\n",
       "  [13,  7]  =  1.0\n",
       "  ⋮\n",
       "  [5 ,  9]  =  1.0\n",
       "  [4 , 10]  =  1.0\n",
       "  [13, 10]  =  1.0\n",
       "  [6 , 11]  =  2.0\n",
       "  [8 , 12]  =  1.0\n",
       "  [14, 12]  =  1.0\n",
       "  [7 , 13]  =  1.0\n",
       "  [10, 13]  =  1.0\n",
       "  [12, 14]  =  1.0\n",
       "  [15, 14]  =  1.0\n",
       "  [8 , 15]  =  1.0\n",
       "  [14, 15]  =  1.0\n",
       "  [16, 16]  =  2.0"
      ]
     },
     "execution_count": 13,
     "metadata": {},
     "output_type": "execute_result"
    }
   ],
   "source": [
    "# The ring exchange operator is defined by its action on the ising basis\n",
    "R = ringexchangeoperator(4)"
   ]
  },
  {
   "cell_type": "code",
   "execution_count": 14,
   "metadata": {},
   "outputs": [
    {
     "name": "stdout",
     "output_type": "stream",
     "text": [
      "ZZZZ  4.0\n",
      "MPZZ  2.0\n",
      "PMZZ  2.0\n",
      "EEZZ  1.0\n",
      "MZPZ  -2.0\n",
      "ZMPZ  2.0\n",
      "PZMZ  -2.0\n",
      "ZPMZ  2.0\n",
      "EZEZ  1.0\n",
      "ZEEZ  1.0\n",
      "MZZP  2.0\n",
      "ZMZP  -2.0\n",
      "ZZMP  2.0\n",
      "MPMP  2.0\n",
      "EEMP  0.5\n",
      "EMEP  0.5\n",
      "MEEP  0.5\n",
      "PZZM  2.0\n",
      "ZPZM  -2.0\n",
      "ZZPM  2.0\n",
      "PMPM  2.0\n",
      "EEPM  0.5\n",
      "EPEM  0.5\n",
      "PEEM  0.5\n",
      "EZZE  1.0\n",
      "ZEZE  1.0\n",
      "EMPE  0.5\n",
      "MEPE  0.5\n",
      "EPME  0.5\n",
      "PEME  0.5\n",
      "ZZEE  1.0\n",
      "MPEE  0.5\n",
      "PMEE  0.5\n",
      "EEEE  0.25\n"
     ]
    }
   ],
   "source": [
    "⊗ = kron\n",
    "Z = [0.5 0; 0 -0.5]\n",
    "P = [0.  1; 0    0]\n",
    "M = P'\n",
    "E = I(2)\n",
    "ops = [Z, P, M, E]\n",
    "ols = ['Z', 'P', 'M', 'E']\n",
    "H = R\n",
    "n=4\n",
    "for (i,j,k,l) in Iterators.product([1:4 for i=1:n]...)\n",
    "    op = ops[i] ⊗ ops[j] ⊗ ops[k] ⊗ ops[l]\n",
    "    opnorm = norm(op)\n",
    "    amp = dot(H, op)/norm(op)^2\n",
    "    amp == 0 || println(ols[i], ols[j], ols[k], ols[l], \"  $amp\")\n",
    "end"
   ]
  },
  {
   "cell_type": "code",
   "execution_count": 45,
   "metadata": {},
   "outputs": [
    {
     "name": "stdout",
     "output_type": "stream",
     "text": [
      "ZZZZ  4.0\n",
      "MPZZ  2.0\n",
      "PMZZ  2.0\n",
      "EEZZ  1.0\n",
      "MZPZ  -2.0\n",
      "ZMPZ  2.0\n",
      "PZMZ  -2.0\n",
      "ZPMZ  2.0\n",
      "EZEZ  1.0\n",
      "ZEEZ  1.0\n",
      "MZZP  2.0\n",
      "ZMZP  -2.0\n",
      "ZZMP  2.0\n",
      "MPMP  2.0\n",
      "EEMP  0.5\n",
      "EMEP  0.5\n",
      "MEEP  0.5\n",
      "PZZM  2.0\n",
      "ZPZM  -2.0\n",
      "ZZPM  2.0\n",
      "PMPM  2.0\n",
      "EEPM  0.5\n",
      "EPEM  0.5\n",
      "PEEM  0.5\n",
      "EZZE  1.0\n",
      "ZEZE  1.0\n",
      "EMPE  0.5\n",
      "MEPE  0.5\n",
      "EPME  0.5\n",
      "PEME  0.5\n",
      "ZZEE  1.0\n",
      "MPEE  0.5\n",
      "PMEE  0.5\n",
      "EEEE  0.25\n"
     ]
    },
    {
     "name": "stderr",
     "output_type": "stream",
     "text": [
      "┌ Warning: Operator has identity with amplitude 0.25\n",
      "└ @ QuantumModel /home/amir/work/mps/src/spin_definitions.jl:91\n"
     ]
    },
    {
     "data": {
      "text/plain": [
       "([4.0, 2.0, 2.0, 1.0, -2.0, 2.0, -2.0, 2.0, 1.0, 1.0  …  1.0, 1.0, 0.5, 0.5, 0.5, 0.5, 1.0, 0.5, 0.5, 0.25], NTuple{4,Array{Float64,2}}[([0.5 0.0; 0.0 -0.5], [0.5 0.0; 0.0 -0.5], [0.5 0.0; 0.0 -0.5], [0.5 0.0; 0.0 -0.5]), ([0.0 0.0; 1.0 0.0], [0.0 1.0; 0.0 0.0], [0.5 0.0; 0.0 -0.5], [0.5 0.0; 0.0 -0.5]), ([0.0 1.0; 0.0 0.0], [0.0 0.0; 1.0 0.0], [0.5 0.0; 0.0 -0.5], [0.5 0.0; 0.0 -0.5]), ([1.0 0.0; 0.0 1.0], [1.0 0.0; 0.0 1.0], [0.5 0.0; 0.0 -0.5], [0.5 0.0; 0.0 -0.5]), ([0.0 0.0; 1.0 0.0], [0.5 0.0; 0.0 -0.5], [0.0 1.0; 0.0 0.0], [0.5 0.0; 0.0 -0.5]), ([0.5 0.0; 0.0 -0.5], [0.0 0.0; 1.0 0.0], [0.0 1.0; 0.0 0.0], [0.5 0.0; 0.0 -0.5]), ([0.0 1.0; 0.0 0.0], [0.5 0.0; 0.0 -0.5], [0.0 0.0; 1.0 0.0], [0.5 0.0; 0.0 -0.5]), ([0.5 0.0; 0.0 -0.5], [0.0 1.0; 0.0 0.0], [0.0 0.0; 1.0 0.0], [0.5 0.0; 0.0 -0.5]), ([1.0 0.0; 0.0 1.0], [0.5 0.0; 0.0 -0.5], [1.0 0.0; 0.0 1.0], [0.5 0.0; 0.0 -0.5]), ([0.5 0.0; 0.0 -0.5], [1.0 0.0; 0.0 1.0], [1.0 0.0; 0.0 1.0], [0.5 0.0; 0.0 -0.5])  …  ([1.0 0.0; 0.0 1.0], [0.5 0.0; 0.0 -0.5], [0.5 0.0; 0.0 -0.5], [1.0 0.0; 0.0 1.0]), ([0.5 0.0; 0.0 -0.5], [1.0 0.0; 0.0 1.0], [0.5 0.0; 0.0 -0.5], [1.0 0.0; 0.0 1.0]), ([1.0 0.0; 0.0 1.0], [0.0 0.0; 1.0 0.0], [0.0 1.0; 0.0 0.0], [1.0 0.0; 0.0 1.0]), ([0.0 0.0; 1.0 0.0], [1.0 0.0; 0.0 1.0], [0.0 1.0; 0.0 0.0], [1.0 0.0; 0.0 1.0]), ([1.0 0.0; 0.0 1.0], [0.0 1.0; 0.0 0.0], [0.0 0.0; 1.0 0.0], [1.0 0.0; 0.0 1.0]), ([0.0 1.0; 0.0 0.0], [1.0 0.0; 0.0 1.0], [0.0 0.0; 1.0 0.0], [1.0 0.0; 0.0 1.0]), ([0.5 0.0; 0.0 -0.5], [0.5 0.0; 0.0 -0.5], [1.0 0.0; 0.0 1.0], [1.0 0.0; 0.0 1.0]), ([0.0 0.0; 1.0 0.0], [0.0 1.0; 0.0 0.0], [1.0 0.0; 0.0 1.0], [1.0 0.0; 0.0 1.0]), ([0.0 1.0; 0.0 0.0], [0.0 0.0; 1.0 0.0], [1.0 0.0; 0.0 1.0], [1.0 0.0; 0.0 1.0]), ([1.0 0.0; 0.0 1.0], [1.0 0.0; 0.0 1.0], [1.0 0.0; 0.0 1.0], [1.0 0.0; 0.0 1.0])])"
      ]
     },
     "execution_count": 45,
     "metadata": {},
     "output_type": "execute_result"
    }
   ],
   "source": [
    "nbodyopexpansion(4, R, verbose=true)"
   ]
  },
  {
   "cell_type": "code",
   "execution_count": 23,
   "metadata": {},
   "outputs": [
    {
     "data": {
      "text/plain": [
       "true"
      ]
     },
     "execution_count": 23,
     "metadata": {},
     "output_type": "execute_result"
    }
   ],
   "source": [
    "typeof(R) <: SparseMatrixCSC"
   ]
  },
  {
   "cell_type": "code",
   "execution_count": 49,
   "metadata": {},
   "outputs": [
    {
     "data": {
      "text/plain": [
       "3-element Array{Tuple{Array{Float64,2},Array{Float64,2}},1}:\n",
       " ([0.5 0.0; 0.0 -0.5], [0.5 0.0; 0.0 -0.5])\n",
       " ([0.0 0.0; 1.0 0.0], [0.0 0.5; 0.0 0.0])  \n",
       " ([0.0 1.0; 0.0 0.0], [0.0 0.0; 0.5 0.0])  "
      ]
     },
     "execution_count": 49,
     "metadata": {},
     "output_type": "execute_result"
    }
   ],
   "source": [
    "nbodyopexpansion(2, 0.25 .* ringexchangeoperator(2) .- 0.25 * I(4))"
   ]
  },
  {
   "cell_type": "code",
   "execution_count": 37,
   "metadata": {},
   "outputs": [
    {
     "data": {
      "text/plain": [
       "4×4 Array{Float64,2}:\n",
       " 0.25   0.0    0.0   0.0 \n",
       " 0.0   -0.25   0.5   0.0 \n",
       " 0.0    0.5   -0.25  0.0 \n",
       " 0.0    0.0    0.0   0.25"
      ]
     },
     "execution_count": 37,
     "metadata": {},
     "output_type": "execute_result"
    }
   ],
   "source": [
    "Z ⊗ Z + 0.5 * (P ⊗ M + M ⊗ P)"
   ]
  },
  {
   "cell_type": "code",
   "execution_count": null,
   "metadata": {},
   "outputs": [],
   "source": []
  }
 ],
 "metadata": {
  "kernelspec": {
   "display_name": "Julia 1.2.0",
   "language": "julia",
   "name": "julia-1.2"
  },
  "language_info": {
   "file_extension": ".jl",
   "mimetype": "application/julia",
   "name": "julia",
   "version": "1.2.0"
  }
 },
 "nbformat": 4,
 "nbformat_minor": 4
}
