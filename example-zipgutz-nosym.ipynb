{
 "cells": [
  {
   "cell_type": "code",
   "execution_count": null,
   "metadata": {},
   "outputs": [],
   "source": [
    "using Revise"
   ]
  },
  {
   "cell_type": "code",
   "execution_count": null,
   "metadata": {},
   "outputs": [],
   "source": [
    "push!(LOAD_PATH, \"/home/amir/work/mps/src/\")\n",
    "\n",
    "using KrylovKit\n",
    "using SparseArrays\n",
    "using LinearAlgebra\n",
    "using Plots\n",
    "using LaTeXStrings\n",
    "using FFTW\n",
    "using LsqFit\n",
    "\n",
    "using MatrixProductStateTools\n",
    "using ExactDiagonalizationTools\n",
    "using SymTensors\n",
    "using GaussianFermions\n",
    "using GutzwillerMPS"
   ]
  },
  {
   "cell_type": "code",
   "execution_count": null,
   "metadata": {},
   "outputs": [],
   "source": [
    "#include(\"/home/amir/work/mps/test/runtests.jl\")"
   ]
  },
  {
   "cell_type": "code",
   "execution_count": null,
   "metadata": {},
   "outputs": [],
   "source": [
    "# exact Heisenberg AF mps\n",
    "lx = 8\n",
    "H = xxz_hamiltonian(lx)\n",
    "es, vs = eigsolve(H, 1, :SR, ishermitian=true)\n",
    "mpsheis = MatrixProductState(lx, 2, vs[1])  \n",
    "sz = Matrix(sz_half)\n",
    "sp = Matrix(sp_half)\n",
    "sm = Matrix(sm_half)\n",
    "heis_pm = measure_2point(mpsheis, sp, sm)\n",
    "heis_mp = measure_2point(mpsheis, sm, sp)\n",
    "heis_zz = measure_2point(mpsheis, sz, sz)\n",
    "indexes = [half_measurement_index(lx,1,l+1) for l=1:lx-1]\n",
    "\n",
    "p = plot(xaxis=(L\"$x$\"), yaxis=(L\"$\\langle s^\\alpha_1 s^\\beta_x\\rangle$\"), legend=:bottomright)\n",
    "plot!(p, [2:lx], heis_zz[indexes], marker=(:circle), label=L\"\\alpha=z, \\beta=z\")\n",
    "plot!(p, [2:lx], heis_pm[indexes], marker=(:circle), label=L\"\\alpha=+, \\beta=-\")\n",
    "plot!(p, [2:lx], heis_mp[indexes], marker=(:circle), label=L\"\\alpha=-, \\beta=+\")"
   ]
  },
  {
   "cell_type": "code",
   "execution_count": null,
   "metadata": {},
   "outputs": [],
   "source": [
    "# Fermionic hopping mps using Fishman gates\n",
    "cm = correlationmatrix(hopping_chain(lx, boundary=:OBC), div(lx,2))\n",
    "fgs = generate_fishmangates(cm)\n",
    "mps = fishman2mps(fgs, 100)\n",
    "\n",
    "fhop_pm = real.(measure_2point(mps, sp, sm))\n",
    "#fhop_mp = real.(measure_2point(mps, sm, sp))\n",
    "fhop_zz = real.(measure_2point(mps, sz, sz))\n",
    "indexes = [half_measurement_index(lx,1,l+1) for l=1:lx-1]\n",
    "\n",
    "p = plot(xaxis=(L\"$x$\"), yaxis=(L\"$\\langle s^\\alpha_1 s^\\beta_x\\rangle$\"), legend=:bottomright)\n",
    "plot!(p, [2:lx], fhop_zz[indexes], marker=(:circle), label=L\"\\alpha=z, \\beta=z\")\n",
    "plot!(p, [2:lx], fhop_pm[indexes], marker=(:circle), label=L\"\\alpha=+, \\beta=-\")\n",
    "#plot!(p, [2:lx], fhop_mp[indexes], marker=(:circle), label=L\"\\alpha=-, \\beta=+\")"
   ]
  },
  {
   "cell_type": "code",
   "execution_count": null,
   "metadata": {},
   "outputs": [],
   "source": [
    "# zip and gutzwiller method\n",
    "mpsgutz = zipandgutzwiller!(mps, mps);\n",
    "@show norm2(mpsgutz)\n",
    "normalize!(mpsgutz)"
   ]
  },
  {
   "cell_type": "code",
   "execution_count": null,
   "metadata": {},
   "outputs": [],
   "source": [
    "@show mps_dims_are_consistent(mpsgutz)\n",
    "zzdata = real.(measure_2point(mpsgutz, sz, sz))\n",
    "pmdata = real.(measure_2point(mpsgutz, sp, sm)) \n",
    "mpdata = real.(measure_2point(mpsgutz, sm, sp)) \n",
    "\n",
    "pR = plot(xaxis=(L\"$x$\"), yaxis=(L\"$\\langle \\mathbf{S}_1 \\cdot \\mathbf{S}_x\\rangle$\"), legend=false)\n",
    "pF = plot(\n",
    "    xaxis=(L\"q\", (0, pi), ([0,pi/2,pi], [L\"0\", L\"\\pi/2\", L\"\\pi\"])),\n",
    "    yaxis=(L\"\\langle \\mathbf{S}_q \\cdot \\mathbf{S}_{-q}\\rangle\"),\n",
    "    legend=false\n",
    ")\n",
    "\n",
    "indexes = [half_measurement_index(lx,1,l+1) for l=1:lx-1]\n",
    "data = zzdata[indexes] + pmdata[indexes]\n",
    "data = vcat([3/4.], data)\n",
    "\n",
    "#plot!(pR, [1:lx], data, marker=(:circle))\n",
    "plot!(pR, [2:lx], zzdata[indexes], marker=(:circle))\n",
    "plot!(pR, [2:lx], pmdata[indexes], marker=(:circle))\n",
    "plot!(pR, [2:lx], mpdata[indexes], marker=(:circle))\n",
    "\n",
    "fdata = rfft(data)\n",
    "qs = range(0, pi, length=div(lx,2)+1)\n",
    "#plot!(pF, qs, real.(fdata))\n",
    "    \n",
    "plot(pF, pR, size=(800,400), layout=(1,2))"
   ]
  },
  {
   "cell_type": "code",
   "execution_count": null,
   "metadata": {},
   "outputs": [],
   "source": [
    "entgutz = entanglemententropy(mpsgutz);\n",
    "entheis = entanglemententropy(mpsheis);"
   ]
  },
  {
   "cell_type": "code",
   "execution_count": null,
   "metadata": {},
   "outputs": [],
   "source": [
    "@. fitfn(x, p) = p[1]/6 * log(lx/pi * sin(pi*x/lx)) + p[2]\n",
    "fitgutz = curve_fit(fitfn, collect(1:lx-1), entgutz, [1., 0.5])\n",
    "csgutz = coef(fitgutz)\n",
    "println(\"Gutzwiller fit\", csgutz)\n",
    "\n",
    "fitheis = curve_fit(fitfn, collect(1:lx-1), entheis, [1., 0.5])\n",
    "csheis = coef(fitheis)\n",
    "println(\"Heisenberg fit\", csheis)\n",
    "xsfill = range(1, lx-1, length=100)\n",
    "\n",
    "p = plot(\n",
    "    xaxis=(L\"\\ell\"),\n",
    "    yaxis=(L\"S_1(\\ell)\"),\n",
    "    legend=:bottom\n",
    ")\n",
    "plot!(p, entgutz, label=\"Gutz\")\n",
    "plot!(p, xsfill, fitfn(xsfill, csgutz), label=latexstring(\"c = $(csgutz[1])\"))\n",
    "\n",
    "plot!(p, entheis, label=\"Heis\")\n",
    "plot!(p, xsfill, fitfn(xsfill, csheis), label=latexstring(\"c = $(csheis[1])\"))\n"
   ]
  }
 ],
 "metadata": {
  "kernelspec": {
   "display_name": "Julia 1.1.1",
   "language": "julia",
   "name": "julia-1.1"
  },
  "language_info": {
   "file_extension": ".jl",
   "mimetype": "application/julia",
   "name": "julia",
   "version": "1.1.1"
  }
 },
 "nbformat": 4,
 "nbformat_minor": 2
}
