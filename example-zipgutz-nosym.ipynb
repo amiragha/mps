{
 "cells": [
  {
   "cell_type": "code",
   "execution_count": null,
   "metadata": {},
   "outputs": [],
   "source": [
    "using Revise"
   ]
  },
  {
   "cell_type": "code",
   "execution_count": null,
   "metadata": {},
   "outputs": [],
   "source": [
    "push!(LOAD_PATH, \"/home/amir/work/mps/src/\")\n",
    "\n",
    "using KrylovKit\n",
    "using SparseArrays\n",
    "using LinearAlgebra\n",
    "using Plots\n",
    "using LaTeXStrings\n",
    "\n",
    "using MatrixProductStateTools\n",
    "using ExactDiagonalizationTools\n",
    "using SymTensors\n",
    "using GaussianFermions\n",
    "using GutzwillerMPS"
   ]
  },
  {
   "cell_type": "code",
   "execution_count": null,
   "metadata": {},
   "outputs": [],
   "source": [
    "#include(\"/home/amir/work/mps/test/runtests.jl\")"
   ]
  },
  {
   "cell_type": "code",
   "execution_count": null,
   "metadata": {},
   "outputs": [],
   "source": [
    "⊗ = kron\n",
    "lx = 16\n",
    "H = xxz_hamiltonian(lx)\n",
    "es, vs = eigsolve(H, 1, :SR)\n",
    "extended_sz(lx, l) = sparse(1.0I, 2^(l-1), 2^(l-1)) ⊗ [1.0 0; 0. -1.0] ⊗ sparse(1.0I, 2^(lx-l), 2^(lx-l))\n",
    "mps = MatrixProductState(lx, 2, vs[1])\n",
    "sz  = Matrix(sz_half)\n",
    "szvals = [measure_1point(mps, sz, l) for l in 1:8]\n",
    "@show szvals\n",
    "@show norm2(mps)\n",
    "data1 = measure_2point(mps, sz, sz) \n",
    "#data1[[half_measurement_index(lx,1,l+1) for l=1:lx-1]]\n",
    "plot((2:lx), data1[[half_measurement_index(lx,1,l+1) for l=1:lx-1]], \n",
    "    marker=(:circle),xaxis=(L\"$x$\"), yaxis=(L\"$\\langle s^z_1 s^z_x\\rangle$\"), legend=false)"
   ]
  },
  {
   "cell_type": "code",
   "execution_count": null,
   "metadata": {},
   "outputs": [],
   "source": [
    "cm = correlationmatrix(hopping_chain(lx, boundary=:OBC), div(lx,2))\n",
    "fgs = generate_fishmangates(cm)\n",
    "mps = fishman2mps(fgs, 100)\n",
    "data = measure_2point(mps, sz, sz) \n",
    "plot((2:lx), real.(data[[half_measurement_index(lx,1,l+1) for l=1:lx-1]]),\n",
    "    marker=(:circle),xaxis=(L\"$x$\"), yaxis=(L\"$\\langle s^z_1 s^z_x\\rangle$\"), legend=false)"
   ]
  },
  {
   "cell_type": "code",
   "execution_count": null,
   "metadata": {},
   "outputs": [],
   "source": [
    "mpsgutz = zipandgutzwiller!(mps, mps);"
   ]
  },
  {
   "cell_type": "code",
   "execution_count": null,
   "metadata": {},
   "outputs": [],
   "source": [
    "@show mps_dims_are_consistent(mpsgutz)\n",
    "data = measure_2point(mpsgutz, sz, sz) \n",
    "data = real.(data ./ norm2(mpsgutz))\n",
    "@show norm2(mpsgutz)\n",
    "p = plot(xaxis=(L\"$x$\"), yaxis=(L\"$\\langle s^z_1 s^z_x\\rangle$\"), legend=false)\n",
    "plot!(p, [2:lx], data[[half_measurement_index(lx,1,l+1) for l=1:lx-1]], marker=(:circle))\n",
    "plot!(p, [2:lx], data1[[half_measurement_index(lx,1,l+1) for l=1:lx-1]], marker=(:circle))"
   ]
  },
  {
   "cell_type": "code",
   "execution_count": null,
   "metadata": {},
   "outputs": [],
   "source": []
  }
 ],
 "metadata": {
  "kernelspec": {
   "display_name": "Julia 1.1.0",
   "language": "julia",
   "name": "julia-1.1"
  },
  "language_info": {
   "file_extension": ".jl",
   "mimetype": "application/julia",
   "name": "julia",
   "version": "1.1.1"
  }
 },
 "nbformat": 4,
 "nbformat_minor": 2
}
