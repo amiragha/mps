{
 "cells": [
  {
   "cell_type": "code",
   "execution_count": null,
   "metadata": {},
   "outputs": [],
   "source": [
    "using Revise"
   ]
  },
  {
   "cell_type": "code",
   "execution_count": null,
   "metadata": {},
   "outputs": [],
   "source": [
    "push!(LOAD_PATH, \"/home/amir/work/mps/src/\")\n",
    "\n",
    "using KrylovKit\n",
    "using SparseArrays\n",
    "using LinearAlgebra\n",
    "using Plots\n",
    "using LaTeXStrings\n",
    "using FFTW\n",
    "using LsqFit\n",
    "\n",
    "using QuantumModels\n",
    "using MatrixProductStateTools\n",
    "using ExactDiagonalizationTools\n",
    "using SymTensors\n",
    "using GaussianFermions\n",
    "using GutzwillerMPS"
   ]
  },
  {
   "cell_type": "code",
   "execution_count": null,
   "metadata": {},
   "outputs": [],
   "source": [
    "ly,lx=4,12\n",
    "L = 1 * lx\n",
    "m = 30\n",
    "hamil = generatebdg(triangularhopping((ly,lx), 1.0, 1., 1., 1., boundary=(:PBC, :OBC)))\n",
    "cm = correlationmatrix(hamil, div(L,2))\n",
    "fgs = corrmat2gmps(cm)\n",
    "mps = gmps2mps(fgs, m, symmetry=U1)\n",
    "\n",
    "sz, sp, sm = spinoperators(1/2, symmetry=U1)\n",
    "\n",
    "fhop_pm = measure(mps, sp, sm)\n",
    "#fhop_mp = measure(mps, sm, sp)\n",
    "fhop_zz = measure(mps, sz, sz)\n",
    "indexes = [(1,l+1) for l=1:lx-1]\n",
    "\n",
    "p = plot(xaxis=(L\"$x$\"), yaxis=(L\"$\\langle s^\\alpha_1 s^\\beta_x\\rangle$\"), legend=:bottomright)\n",
    "plot!(p, [2:lx], [fhop_zz[i] for i in indexes], marker=(:circle), label=L\"\\alpha=z, \\beta=z\")\n",
    "plot!(p, [2:lx], [fhop_pm[i] for i in indexes], marker=(:circle), label=L\"\\alpha=+, \\beta=-\")\n",
    "#plot!(p, [2:lx], [fhop_mp[i] for i in indexes], marker=(:circle), label=L\"\\alpha=-, \\beta=+\")"
   ]
  },
  {
   "cell_type": "code",
   "execution_count": null,
   "metadata": {},
   "outputs": [],
   "source": [
    "mpsgutz, ortho, ets = GutzwillerMPS._zipandgutzwiller_F23_analysis!(mps, mps, maxdim=20);"
   ]
  },
  {
   "cell_type": "code",
   "execution_count": null,
   "metadata": {},
   "outputs": [],
   "source": [
    "plt = plot()\n",
    "plot!(plt, log.(abs.(1 .-ortho))[2:L-2])\n",
    "plot!(plt, log.(abs.(1 .-ets))[2:L-2])"
   ]
  },
  {
   "cell_type": "code",
   "execution_count": null,
   "metadata": {},
   "outputs": [],
   "source": [
    "ortho"
   ]
  },
  {
   "cell_type": "code",
   "execution_count": null,
   "metadata": {},
   "outputs": [],
   "source": [
    "ortho"
   ]
  },
  {
   "cell_type": "code",
   "execution_count": null,
   "metadata": {},
   "outputs": [],
   "source": [
    "prodmps = GutzwillerMPS._tensorproductzip!(mps, mps, maxdim=400);\n",
    "#normalize!(gutz1)\n",
    "gutz2 = zipandgutzwiller!(mps, mps, maxdim=200);"
   ]
  },
  {
   "cell_type": "code",
   "execution_count": null,
   "metadata": {},
   "outputs": [],
   "source": [
    "vne = entanglemententropy(mps)\n",
    "vne1 = entanglemententropy(prodmps)\n",
    "#vne2 = entanglemententropy(gutz2);"
   ]
  },
  {
   "cell_type": "code",
   "execution_count": null,
   "metadata": {},
   "outputs": [],
   "source": [
    "plt=plot()\n",
    "plot!(plt, vne)\n",
    "plot!(plt, vne1)\n",
    "#plot!(plt, vne2)"
   ]
  },
  {
   "cell_type": "code",
   "execution_count": null,
   "metadata": {},
   "outputs": [],
   "source": [
    "bonddims(prodmps)"
   ]
  },
  {
   "cell_type": "code",
   "execution_count": null,
   "metadata": {},
   "outputs": [],
   "source": [
    "G = fill(one(Float64), zero(U1),\n",
    "             (U1Space([-1=>1, 1=>1]),\n",
    "              dual(U1Space([-1=>1, 0=>2, 1=>1]))\n",
    "              ))\n",
    "\n",
    "\n",
    "C = contract(G, (2, -1), prodmps.As[lx], (1, -1, 3))\n",
    "    "
   ]
  },
  {
   "cell_type": "code",
   "execution_count": null,
   "metadata": {},
   "outputs": [],
   "source": [
    "n=lx-1\n",
    "A = prodmps.As[n]\n",
    "C = contract(G, (2, -1), prodmps.As[n], (1, -1, 3))\n",
    "isrightisometry(fuselegs(C, 2, 2, true))\n",
    "#isleftisometry(fuselegs(A, 1, 2))"
   ]
  },
  {
   "cell_type": "code",
   "execution_count": null,
   "metadata": {},
   "outputs": [],
   "source": [
    "center_at!(prodmps, 1);\n"
   ]
  },
  {
   "cell_type": "code",
   "execution_count": null,
   "metadata": {},
   "outputs": [],
   "source": [
    "G"
   ]
  },
  {
   "cell_type": "code",
   "execution_count": null,
   "metadata": {},
   "outputs": [],
   "source": [
    "R = contract(\n",
    "    contract(prodmps.As[lx], (1, -1, 3), G, (2, -1)), (1, -1, -2), \n",
    "    contract(dual(prodmps.As[lx]), (1, -1, 3), G, (2, -1)), (2, -1, -2))\n",
    "\n",
    "l = lx-1\n",
    "A = contract(prodmps.As[l], (1, -1, 3), G, (2, -1))\n",
    "B = contract(prodmps.As[l], (1, -1, 3), G, (2, -1))\n",
    "R = contract(contract(A, (1,2,-1), R, (-1,3)), (1,-1,-2), B, (2,-1,-2))\n",
    "\n",
    "l = lx-2\n",
    "A = contract(prodmps.As[l], (1, -1, 3), G, (2, -1))\n",
    "B = contract(prodmps.As[l], (1, -1, 3), G, (2, -1))\n",
    "R = contract(contract(A, (1,2,-1), R, (-1,3)), (1,-1,-2), B, (2,-1,-2))\n",
    "\n",
    "l = lx-3\n",
    "A = contract(prodmps.As[l], (1, -1, 3), G, (2, -1))\n",
    "B = contract(prodmps.As[l], (1, -1, 3), G, (2, -1))\n",
    "R = contract(contract(A, (1,2,-1), R, (-1,3)), (1,-1,-2), B, (2,-1,-2))"
   ]
  },
  {
   "cell_type": "code",
   "execution_count": null,
   "metadata": {},
   "outputs": [],
   "source": []
  }
 ],
 "metadata": {
  "kernelspec": {
   "display_name": "Julia 1.3.0",
   "language": "julia",
   "name": "julia-1.3"
  },
  "language_info": {
   "file_extension": ".jl",
   "mimetype": "application/julia",
   "name": "julia",
   "version": "1.3.1"
  }
 },
 "nbformat": 4,
 "nbformat_minor": 4
}
