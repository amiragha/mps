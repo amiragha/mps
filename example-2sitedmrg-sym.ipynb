{
 "cells": [
  {
   "cell_type": "code",
   "execution_count": 1,
   "metadata": {},
   "outputs": [],
   "source": [
    "using Revise"
   ]
  },
  {
   "cell_type": "code",
   "execution_count": 2,
   "metadata": {},
   "outputs": [
    {
     "name": "stderr",
     "output_type": "stream",
     "text": [
      "┌ Info: Recompiling stale cache file /home/amir/.julia/compiled/v1.1/ExactDiagonalizationTools.ji for ExactDiagonalizationTools [top-level]\n",
      "└ @ Base loading.jl:1184\n",
      "┌ Info: Recompiling stale cache file /home/amir/.julia/compiled/v1.1/MatrixProductStateTools.ji for MatrixProductStateTools [top-level]\n",
      "└ @ Base loading.jl:1184\n",
      "┌ Info: Recompiling stale cache file /home/amir/.julia/compiled/v1.1/TensorNetAlgs.ji for TensorNetAlgs [top-level]\n",
      "└ @ Base loading.jl:1184\n"
     ]
    }
   ],
   "source": [
    "push!(LOAD_PATH, \"/home/amir/work/mps/src/\")\n",
    "\n",
    "using ExactDiagonalizationTools\n",
    "using MatrixProductStateTools\n",
    "using TensorNetAlgs\n",
    "using SymTensors\n",
    "using TensorOperations\n",
    "using KrylovKit"
   ]
  },
  {
   "cell_type": "code",
   "execution_count": 3,
   "metadata": {},
   "outputs": [
    {
     "name": "stdout",
     "output_type": "stream",
     "text": [
      "norm2(mps) = 5.5526312977362385e9\n",
      "norm2(mps) = 0.9999999999999991\n",
      "Starting sweep number 1\n",
      "Sweep L2R: site 1 -> energy 0.7999999999999992\n",
      "Sweep L2R: site 2 -> energy 0.3407009784228141\n",
      "Sweep L2R: site 3 -> energy 0.13028303049298096\n",
      "Sweep L2R: site 4 -> energy 0.04308924924004857\n"
     ]
    },
    {
     "ename": "ErrorException",
     "evalue": "operator does not appear to be hermitian: 0.0 vs NaN",
     "output_type": "error",
     "traceback": [
      "operator does not appear to be hermitian: 0.0 vs NaN",
      "",
      "Stacktrace:",
      " [1] #expand!#25(::Int64, ::Function, ::LanczosIterator{getfield(TensorNetAlgs, Symbol(\"##41#44\")){SymMatrixProductOperator{Float64},Array{SymTensor{Float64,3},1}},SymTensor{Float64,4},ModifiedGramSchmidt2}, ::KrylovKit.LanczosFactorization{SymTensor{Float64,4},Float64}) at /home/amir/.julia/packages/KrylovKit/IJXXt/src/krylov/lanczos.jl:123",
      " [2] (::getfield(KrylovKit, Symbol(\"#kw##expand!\")))(::NamedTuple{(:verbosity,),Tuple{Int64}}, ::typeof(expand!), ::LanczosIterator{getfield(TensorNetAlgs, Symbol(\"##41#44\")){SymMatrixProductOperator{Float64},Array{SymTensor{Float64,3},1}},SymTensor{Float64,4},ModifiedGramSchmidt2}, ::KrylovKit.LanczosFactorization{SymTensor{Float64,4},Float64}) at ./none:0",
      " [3] eigsolve(::Function, ::SymTensor{Float64,4}, ::Int64, ::Symbol, ::Lanczos{ModifiedGramSchmidt2,Float64}) at /home/amir/.julia/packages/KrylovKit/IJXXt/src/eigsolve/lanczos.jl:100",
      " [4] #eigsolve#41(::Base.Iterators.Pairs{Symbol,Bool,Tuple{Symbol},NamedTuple{(:ishermitian,),Tuple{Bool}}}, ::Function, ::Function, ::SymTensor{Float64,4}, ::Int64, ::Symbol) at /home/amir/.julia/packages/KrylovKit/IJXXt/src/eigsolve/eigsolve.jl:163",
      " [5] (::getfield(KrylovKit, Symbol(\"#kw##eigsolve\")))(::NamedTuple{(:ishermitian,),Tuple{Bool}}, ::typeof(eigsolve), ::Function, ::SymTensor{Float64,4}, ::Int64, ::Symbol) at ./none:0",
      " [6] #dmrg2sitesweep!#40(::Bool, ::Function, ::SymMatrixProductState{Float64}, ::SymMatrixProductOperator{Float64}, ::Array{SymTensor{Float64,3},1}, ::Int64, ::Float64) at /home/amir/work/mps/src/symdmrg.jl:47",
      " [7] #dmrg2sitesweep! at ./none:0 [inlined] (repeats 2 times)",
      " [8] top-level scope at ./In[3]:12"
     ]
    }
   ],
   "source": [
    "lx = 16\n",
    "maxdim = 40\n",
    "mps = SymMatrixProductState{Float64}(lx, 2, div(lx,2), noise=0.5);\n",
    "@show norm2(mps)\n",
    "normalize!(mps)\n",
    "@show norm2(mps)\n",
    "mpo = xxz_symmpo(Float64, lx, 2, 1.0)\n",
    "env = initialenv(mps, mpo);\n",
    "\n",
    "for sweep = 1:4\n",
    "    println(\"Starting sweep number $sweep\")\n",
    "    dmrg2sitesweep!(mps, mpo, env, maxdim, verbose=true)\n",
    "    #println()\n",
    "end         "
   ]
  },
  {
   "cell_type": "code",
   "execution_count": null,
   "metadata": {},
   "outputs": [],
   "source": [
    "println(\"Energy : \", measure_mpo(mps, mpo)/(lx))\n",
    "sz = sz_half_U1sym\n",
    "data = measure_2point(mps, sz, sz);\n",
    "plot(data[[half_measurement_index(lx, 1, l) for l in 2:lx-1]])"
   ]
  }
 ],
 "metadata": {
  "kernelspec": {
   "display_name": "Julia 1.1.1",
   "language": "julia",
   "name": "julia-1.1"
  },
  "language_info": {
   "file_extension": ".jl",
   "mimetype": "application/julia",
   "name": "julia",
   "version": "1.1.1"
  }
 },
 "nbformat": 4,
 "nbformat_minor": 2
}
