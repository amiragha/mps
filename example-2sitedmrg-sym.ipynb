{
 "cells": [
  {
   "cell_type": "code",
   "execution_count": null,
   "metadata": {},
   "outputs": [],
   "source": [
    "using Revise"
   ]
  },
  {
   "cell_type": "code",
   "execution_count": null,
   "metadata": {},
   "outputs": [],
   "source": [
    "push!(LOAD_PATH, \"/home/amir/work/mps/src/\")\n",
    "\n",
    "using QuantumModels\n",
    "using ExactDiagonalizationTools\n",
    "using MatrixProductStateTools\n",
    "using TensorNetAlgs\n",
    "using SymTensors\n",
    "using TensorOperations\n",
    "using KrylovKit\n",
    "\n",
    "using JLD2\n",
    "using Plots\n",
    "using LaTeXStrings"
   ]
  },
  {
   "cell_type": "code",
   "execution_count": null,
   "metadata": {},
   "outputs": [],
   "source": [
    "lx = 16\n",
    "maxdim = 40\n",
    "mps = SymMatrixProductState{Float64}(lx, 2, div(lx,2), noise=0.5);\n",
    "normalize!(mps)\n",
    "move_center!(mps, 1)\n",
    "@show norm2(mps)\n",
    "mpo = xxz_symmpo(Float64, lx, 2, 1.0)\n",
    "env = initialenv(mps, mpo);\n",
    "\n",
    "for sweep = 1:4\n",
    "    println(\"Starting sweep number $sweep\")\n",
    "    dmrg2sitesweep!(mps, mpo, env, maxdim, verbose=true)\n",
    "    #println()\n",
    "end"
   ]
  },
  {
   "cell_type": "code",
   "execution_count": null,
   "metadata": {},
   "outputs": [],
   "source": [
    "filename = \"2sitedmrg.jld2\"\n",
    "@save filename mps"
   ]
  },
  {
   "cell_type": "code",
   "execution_count": null,
   "metadata": {},
   "outputs": [],
   "source": [
    "println(\"Energy : \", measure_mpo(mps, mpo)/(lx))\n",
    "sz = spinoperators(1/2, symmetry=:U1)[1]\n",
    "data = measure_2point(mps, sz, sz);\n",
    "plot(data[[half_measurement_index(lx, 1, l) for l in 2:lx-1]])"
   ]
  },
  {
   "cell_type": "code",
   "execution_count": null,
   "metadata": {},
   "outputs": [],
   "source": []
  }
 ],
 "metadata": {
  "kernelspec": {
   "display_name": "Julia 1.2.0",
   "language": "julia",
   "name": "julia-1.2"
  },
  "language_info": {
   "file_extension": ".jl",
   "mimetype": "application/julia",
   "name": "julia",
   "version": "1.2.0"
  }
 },
 "nbformat": 4,
 "nbformat_minor": 4
}
