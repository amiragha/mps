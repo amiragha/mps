{
 "cells": [
  {
   "cell_type": "code",
   "execution_count": null,
   "metadata": {},
   "outputs": [],
   "source": [
    "using Revise"
   ]
  },
  {
   "cell_type": "code",
   "execution_count": null,
   "metadata": {},
   "outputs": [],
   "source": [
    "push!(LOAD_PATH, \"/home/amir/work/mps/src/\")\n",
    "\n",
    "using QuantumModels\n",
    "using ExactDiagonalizationTools\n",
    "using MatrixProductStateTools\n",
    "using TensorNetAlgs\n",
    "using SymTensors\n",
    "using TensorOperations\n",
    "using KrylovKit\n",
    "\n",
    "using JLD2\n",
    "using Plots\n",
    "using LaTeXStrings"
   ]
  },
  {
   "cell_type": "code",
   "execution_count": null,
   "metadata": {},
   "outputs": [],
   "source": [
    "lx = 16\n",
    "maxdim = 40\n",
    "mps = U1MPS(Float64, lx, 2, U1(div(lx,2)), noise=0.2);\n",
    "@show norm(mps)\n",
    "normalize!(mps)\n",
    "center_at!(mps, 1)\n",
    "@show norm(mps)\n",
    "mpo = xxz_u1mpo(Float64, lx, 2, 1.0)\n",
    "env = initialenv(mps, mpo);\n",
    "\n",
    "for sweep = 1:4\n",
    "    println(\"Starting sweep number $sweep\")\n",
    "    dmrg2sitesweep!(mps, mpo, env, maxdim=maxdim, verbose=true)\n",
    "    #println()\n",
    "end"
   ]
  },
  {
   "cell_type": "code",
   "execution_count": null,
   "metadata": {},
   "outputs": [],
   "source": [
    "filename = \"2sitedmrg.jld2\"\n",
    "@save filename mps"
   ]
  },
  {
   "cell_type": "code",
   "execution_count": null,
   "metadata": {},
   "outputs": [],
   "source": [
    "println(\"Energy : \", measure(mps, mpo)[1]/(lx))\n",
    "sz = spinoperators(1/2, symmetry=U1)[1]\n",
    "data = measure(mps, sz, sz);\n",
    "plot([data[(1, l)] for l in 2:lx-1])"
   ]
  },
  {
   "cell_type": "code",
   "execution_count": null,
   "metadata": {},
   "outputs": [],
   "source": [
    "plot(entanglemententropy(mps))"
   ]
  },
  {
   "cell_type": "code",
   "execution_count": null,
   "metadata": {},
   "outputs": [],
   "source": []
  }
 ],
 "metadata": {
  "kernelspec": {
   "display_name": "Julia 1.3.0",
   "language": "julia",
   "name": "julia-1.3"
  },
  "language_info": {
   "file_extension": ".jl",
   "mimetype": "application/julia",
   "name": "julia",
   "version": "1.3.0"
  }
 },
 "nbformat": 4,
 "nbformat_minor": 4
}
