{
 "cells": [
  {
   "cell_type": "code",
   "execution_count": null,
   "metadata": {},
   "outputs": [],
   "source": [
    "using Revise"
   ]
  },
  {
   "cell_type": "code",
   "execution_count": null,
   "metadata": {},
   "outputs": [],
   "source": [
    "push!(LOAD_PATH, \"/home/amir/work/mps/src/\")\n",
    "\n",
    "using ExactDiagonalizationTools\n",
    "using MatrixProductStateTools\n",
    "using TensorNetAlgs\n",
    "\n",
    "using FFTW\n",
    "using Plots\n",
    "using LaTeXStrings"
   ]
  },
  {
   "cell_type": "markdown",
   "metadata": {},
   "source": [
    "# Testing DMRG 2site algorithm"
   ]
  },
  {
   "cell_type": "code",
   "execution_count": null,
   "metadata": {},
   "outputs": [],
   "source": [
    "lx = 16\n",
    "maxdim = 40\n",
    "mps = MatrixProductState{Float64}(lx, 2, noise=0.2);\n",
    "move_center!(mps, 1)\n",
    "mpo = xxz_mpo(Float64, lx, 2, 1.0)\n",
    "env = initialenv(mps, mpo)\n",
    "\n",
    "for sweep = 1:4\n",
    "    println(\"Starting sweep number $sweep\")\n",
    "    dmrg2sitesweep!(mps, mpo, env, maxdim, verbose=true)\n",
    "    #println()\n",
    "end"
   ]
  },
  {
   "cell_type": "code",
   "execution_count": null,
   "metadata": {},
   "outputs": [],
   "source": [
    "println(\"Energy : \", measure_mpo(mps, mpo)/(lx))\n",
    "sz, sp, sm = spinoperators(1/2)\n",
    "zzdata = measure_2point(mps, sz, sz);\n",
    "pmdata = measure_2point(mps, sp, sm);\n",
    "\n",
    "indexes = [half_measurement_index(lx, 1, l) for l in 2:lx]\n",
    "plt = plot(\n",
    "    xaxis=(L\"x\", collect(2:2:lx)), \n",
    "    yaxis=(L\"$\\langle S_1 S_x\\rangle$\",),\n",
    "    legend=:bottomright)\n",
    "plot!(plt, 2:lx, zzdata[indexes], label=L\"zz\")\n",
    "plot!(plt, 2:lx, pmdata[indexes], label=L\"+-\")"
   ]
  },
  {
   "cell_type": "code",
   "execution_count": null,
   "metadata": {},
   "outputs": [],
   "source": [
    "# bond values on each point and Fourier transform\n",
    "indexes = [half_measurement_index(lx, l, l+1) for l in 1:lx-1]\n",
    "\n",
    "ftdata = rfft(vcat([0],zzdata[indexes]))\n",
    "#ftdata = rfft(zzdata[indexes])\n",
    "\n",
    "plt = plot(xaxis=(L\"q\", (0, pi), ([0,pi/2,pi],[L\"0\",L\"\\pi/2\", L\"\\pi\"])))\n",
    "plot!(plt, range(0,pi,length=div(lx,2)), real.(ftdata)[2:end])\n",
    "plot!(plt, range(0,pi,length=div(lx,2)), imag.(ftdata)[2:end])"
   ]
  },
  {
   "cell_type": "code",
   "execution_count": null,
   "metadata": {},
   "outputs": [],
   "source": []
  }
 ],
 "metadata": {
  "kernelspec": {
   "display_name": "Julia 1.2.0",
   "language": "julia",
   "name": "julia-1.2"
  },
  "language_info": {
   "file_extension": ".jl",
   "mimetype": "application/julia",
   "name": "julia",
   "version": "1.2.0"
  }
 },
 "nbformat": 4,
 "nbformat_minor": 4
}
