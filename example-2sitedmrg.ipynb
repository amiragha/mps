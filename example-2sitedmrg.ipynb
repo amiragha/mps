{
 "cells": [
  {
   "cell_type": "code",
   "execution_count": null,
   "metadata": {},
   "outputs": [],
   "source": [
    "using Revise"
   ]
  },
  {
   "cell_type": "code",
   "execution_count": null,
   "metadata": {},
   "outputs": [],
   "source": [
    "push!(LOAD_PATH, \"/home/amir/work/mps/src/\")\n",
    "\n",
    "using QuantumModels\n",
    "using ExactDiagonalizationTools\n",
    "using MatrixProductStateTools\n",
    "using TensorNetAlgs\n",
    "\n",
    "using FFTW\n",
    "using Plots\n",
    "using LaTeXStrings"
   ]
  },
  {
   "cell_type": "code",
   "execution_count": null,
   "metadata": {},
   "outputs": [],
   "source": [
    "lx = 16\n",
    "maxdim = 40\n",
    "mps = MPS{Float64}(lx, 2, noise=0.2);\n",
    "center_at!(mps, 1)\n",
    "mpo = xxz_mpo(Float64, lx, 2, 1.0)\n",
    "env = initialenv(mps, mpo)\n",
    "\n",
    "for sweep = 1:4\n",
    "    println(\"Starting sweep number $sweep\")\n",
    "    dmrg2sitesweep!(mps, mpo, env, maxdim=maxdim, verbose=true)\n",
    "    #println()\n",
    "end"
   ]
  },
  {
   "cell_type": "code",
   "execution_count": null,
   "metadata": {},
   "outputs": [],
   "source": [
    "println(\"Energy : \", measure(mps, mpo)[1]/(lx))\n",
    "sz, sp, sm = spinoperators(1/2)\n",
    "zzdata = measure(mps, sz, sz);\n",
    "pmdata = measure(mps, sp, sm);\n",
    "\n",
    "plt = plot(\n",
    "    xaxis=(L\"x\", collect(2:2:lx)), \n",
    "    yaxis=(L\"$\\langle S_1 S_x\\rangle$\",),\n",
    "    legend=:bottomright)\n",
    "plot!(plt, 2:lx, [zzdata[(1, l)] for l in 2:lx], label=L\"zz\")\n",
    "plot!(plt, 2:lx, [pmdata[(1, l)] for l in 2:lx], label=L\"zz\")"
   ]
  },
  {
   "cell_type": "code",
   "execution_count": null,
   "metadata": {},
   "outputs": [],
   "source": [
    "ftdata = rfft(vcat([0], [zzdata[l, l+1] for l in 1:lx-1]))\n",
    "\n",
    "plt = plot(xaxis=(L\"q\", (0, pi), ([0,pi/2,pi],[L\"0\",L\"\\pi/2\", L\"\\pi\"])))\n",
    "plot!(plt, range(0,pi,length=div(lx,2)), real.(ftdata)[2:end])\n",
    "plot!(plt, range(0,pi,length=div(lx,2)), imag.(ftdata)[2:end])"
   ]
  }
 ],
 "metadata": {
  "kernelspec": {
   "display_name": "Julia 1.3.1",
   "language": "julia",
   "name": "julia-1.3"
  },
  "language_info": {
   "file_extension": ".jl",
   "mimetype": "application/julia",
   "name": "julia",
   "version": "1.3.1"
  }
 },
 "nbformat": 4,
 "nbformat_minor": 4
}
