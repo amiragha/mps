{
 "cells": [
  {
   "cell_type": "code",
   "execution_count": 1,
   "metadata": {},
   "outputs": [],
   "source": [
    "using Revise"
   ]
  },
  {
   "cell_type": "code",
   "execution_count": 3,
   "metadata": {},
   "outputs": [
    {
     "name": "stderr",
     "output_type": "stream",
     "text": [
      "┌ Info: Precompiling QuantumModel [top-level]\n",
      "└ @ Base loading.jl:1242\n",
      "┌ Info: Recompiling stale cache file /home/amir/.julia/compiled/v1.2/MatrixProductStateTools.ji for MatrixProductStateTools [top-level]\n",
      "└ @ Base loading.jl:1240\n"
     ]
    }
   ],
   "source": [
    "push!(LOAD_PATH, \"/home/amir/work/mps/src/\")\n",
    "\n",
    "using LinearAlgebra\n",
    "\n",
    "using QuantumModel\n",
    "using MatrixProductStateTools"
   ]
  },
  {
   "cell_type": "code",
   "execution_count": 5,
   "metadata": {},
   "outputs": [],
   "source": [
    "n=4\n",
    "lx = 2*n\n",
    "j1, j2 = 1.0, 0.3\n",
    "model = j1j2model(lx, j1, j2)\n",
    "mpo = generatempo(model);\n",
    "legacympo = MatrixProductStateTools.j1j2_mpo(lx, j1, j2, 2);"
   ]
  },
  {
   "cell_type": "code",
   "execution_count": 6,
   "metadata": {},
   "outputs": [
    {
     "data": {
      "text/plain": [
       "true"
      ]
     },
     "execution_count": 6,
     "metadata": {},
     "output_type": "execute_result"
    }
   ],
   "source": [
    "mpo2hamiltonian(legacympo) ≈ mpo2hamiltonian(mpo)"
   ]
  },
  {
   "cell_type": "code",
   "execution_count": 7,
   "metadata": {},
   "outputs": [],
   "source": [
    "tmodel = triangularspinmodel((2, n), 0.3, 1.0, 1.0, 0.0, 0.0, 0.0)\n",
    "tmpo = generatempo(tmodel);"
   ]
  },
  {
   "cell_type": "code",
   "execution_count": 8,
   "metadata": {},
   "outputs": [
    {
     "data": {
      "text/plain": [
       "true"
      ]
     },
     "execution_count": 8,
     "metadata": {},
     "output_type": "execute_result"
    }
   ],
   "source": [
    "mpo2hamiltonian(tmpo) ≈ mpo2hamiltonian(mpo)"
   ]
  },
  {
   "cell_type": "code",
   "execution_count": 13,
   "metadata": {},
   "outputs": [
    {
     "data": {
      "text/plain": [
       "UnitCellQModel{SpinType,1}(SpinType(2), QLattice{1}(UnitCell{1}(1, Tuple{Float64}[(0.0,)], Tuple{Float64}[(1.0,)]), (2,), :OBC), QuantumModel.AbstractQModelInteraction[QuantumModel.SymQModelInteraction{1,2,Float64}(1.0, (1, 1), ((0,), (1,)), Tuple{SymTensors.SymTensor{Float64,2},SymTensors.SymTensor{Float64,2}}[(SymTensors.SymTensor{Float64,2}(0, (SymTensors.STLeg(1, [0, 1], [1, 1]), SymTensors.STLeg(-1, [0, 1], [1, 1])), Tuple{Int64,Int64}[(0, 0), (1, 1)], Array{Float64,2}[[-0.5], [0.5]]), SymTensors.SymTensor{Float64,2}(0, (SymTensors.STLeg(1, [0, 1], [1, 1]), SymTensors.STLeg(-1, [0, 1], [1, 1])), Tuple{Int64,Int64}[(0, 0), (1, 1)], Array{Float64,2}[[-0.5], [0.5]])), (SymTensors.SymTensor{Float64,2}(-1, (SymTensors.STLeg(1, [0, 1], [1, 1]), SymTensors.STLeg(-1, [0, 1], [1, 1])), Tuple{Int64,Int64}[(0, 1)], Array{Float64,2}[[1.0]]), SymTensors.SymTensor{Float64,2}(1, (SymTensors.STLeg(1, [0, 1], [1, 1]), SymTensors.STLeg(-1, [0, 1], [1, 1])), Tuple{Int64,Int64}[(1, 0)], Array{Float64,2}[[0.5]])), (SymTensors.SymTensor{Float64,2}(1, (SymTensors.STLeg(1, [0, 1], [1, 1]), SymTensors.STLeg(-1, [0, 1], [1, 1])), Tuple{Int64,Int64}[(1, 0)], Array{Float64,2}[[1.0]]), SymTensors.SymTensor{Float64,2}(-1, (SymTensors.STLeg(1, [0, 1], [1, 1]), SymTensors.STLeg(-1, [0, 1], [1, 1])), Tuple{Int64,Int64}[(0, 1)], Array{Float64,2}[[0.5]]))]), QuantumModel.SymQModelInteraction{1,2,Float64}(0.3, (1, 1), ((0,), (2,)), Tuple{SymTensors.SymTensor{Float64,2},SymTensors.SymTensor{Float64,2}}[(SymTensors.SymTensor{Float64,2}(0, (SymTensors.STLeg(1, [0, 1], [1, 1]), SymTensors.STLeg(-1, [0, 1], [1, 1])), Tuple{Int64,Int64}[(0, 0), (1, 1)], Array{Float64,2}[[-0.5], [0.5]]), SymTensors.SymTensor{Float64,2}(0, (SymTensors.STLeg(1, [0, 1], [1, 1]), SymTensors.STLeg(-1, [0, 1], [1, 1])), Tuple{Int64,Int64}[(0, 0), (1, 1)], Array{Float64,2}[[-0.5], [0.5]])), (SymTensors.SymTensor{Float64,2}(-1, (SymTensors.STLeg(1, [0, 1], [1, 1]), SymTensors.STLeg(-1, [0, 1], [1, 1])), Tuple{Int64,Int64}[(0, 1)], Array{Float64,2}[[1.0]]), SymTensors.SymTensor{Float64,2}(1, (SymTensors.STLeg(1, [0, 1], [1, 1]), SymTensors.STLeg(-1, [0, 1], [1, 1])), Tuple{Int64,Int64}[(1, 0)], Array{Float64,2}[[0.5]])), (SymTensors.SymTensor{Float64,2}(1, (SymTensors.STLeg(1, [0, 1], [1, 1]), SymTensors.STLeg(-1, [0, 1], [1, 1])), Tuple{Int64,Int64}[(1, 0)], Array{Float64,2}[[1.0]]), SymTensors.SymTensor{Float64,2}(-1, (SymTensors.STLeg(1, [0, 1], [1, 1]), SymTensors.STLeg(-1, [0, 1], [1, 1])), Tuple{Int64,Int64}[(0, 1)], Array{Float64,2}[[0.5]]))])])"
      ]
     },
     "execution_count": 13,
     "metadata": {},
     "output_type": "execute_result"
    }
   ],
   "source": [
    "smodel = j1j2model(2, j1, j2, symmetry=:U1)"
   ]
  },
  {
   "cell_type": "code",
   "execution_count": 15,
   "metadata": {},
   "outputs": [
    {
     "data": {
      "text/plain": [
       "2-element Array{QuantumModel.AbstractQModelInteraction,1}:\n",
       " QuantumModel.SymQModelInteraction{1,2,Float64}(1.0, (1, 1), ((0,), (1,)), Tuple{SymTensors.SymTensor{Float64,2},SymTensors.SymTensor{Float64,2}}[(SymTensors.SymTensor{Float64,2}(0, (SymTensors.STLeg(1, [0, 1], [1, 1]), SymTensors.STLeg(-1, [0, 1], [1, 1])), Tuple{Int64,Int64}[(0, 0), (1, 1)], Array{Float64,2}[[-0.5], [0.5]]), SymTensors.SymTensor{Float64,2}(0, (SymTensors.STLeg(1, [0, 1], [1, 1]), SymTensors.STLeg(-1, [0, 1], [1, 1])), Tuple{Int64,Int64}[(0, 0), (1, 1)], Array{Float64,2}[[-0.5], [0.5]])), (SymTensors.SymTensor{Float64,2}(-1, (SymTensors.STLeg(1, [0, 1], [1, 1]), SymTensors.STLeg(-1, [0, 1], [1, 1])), Tuple{Int64,Int64}[(0, 1)], Array{Float64,2}[[1.0]]), SymTensors.SymTensor{Float64,2}(1, (SymTensors.STLeg(1, [0, 1], [1, 1]), SymTensors.STLeg(-1, [0, 1], [1, 1])), Tuple{Int64,Int64}[(1, 0)], Array{Float64,2}[[0.5]])), (SymTensors.SymTensor{Float64,2}(1, (SymTensors.STLeg(1, [0, 1], [1, 1]), SymTensors.STLeg(-1, [0, 1], [1, 1])), Tuple{Int64,Int64}[(1, 0)], Array{Float64,2}[[1.0]]), SymTensors.SymTensor{Float64,2}(-1, (SymTensors.STLeg(1, [0, 1], [1, 1]), SymTensors.STLeg(-1, [0, 1], [1, 1])), Tuple{Int64,Int64}[(0, 1)], Array{Float64,2}[[0.5]]))])\n",
       " QuantumModel.SymQModelInteraction{1,2,Float64}(0.3, (1, 1), ((0,), (2,)), Tuple{SymTensors.SymTensor{Float64,2},SymTensors.SymTensor{Float64,2}}[(SymTensors.SymTensor{Float64,2}(0, (SymTensors.STLeg(1, [0, 1], [1, 1]), SymTensors.STLeg(-1, [0, 1], [1, 1])), Tuple{Int64,Int64}[(0, 0), (1, 1)], Array{Float64,2}[[-0.5], [0.5]]), SymTensors.SymTensor{Float64,2}(0, (SymTensors.STLeg(1, [0, 1], [1, 1]), SymTensors.STLeg(-1, [0, 1], [1, 1])), Tuple{Int64,Int64}[(0, 0), (1, 1)], Array{Float64,2}[[-0.5], [0.5]])), (SymTensors.SymTensor{Float64,2}(-1, (SymTensors.STLeg(1, [0, 1], [1, 1]), SymTensors.STLeg(-1, [0, 1], [1, 1])), Tuple{Int64,Int64}[(0, 1)], Array{Float64,2}[[1.0]]), SymTensors.SymTensor{Float64,2}(1, (SymTensors.STLeg(1, [0, 1], [1, 1]), SymTensors.STLeg(-1, [0, 1], [1, 1])), Tuple{Int64,Int64}[(1, 0)], Array{Float64,2}[[0.5]])), (SymTensors.SymTensor{Float64,2}(1, (SymTensors.STLeg(1, [0, 1], [1, 1]), SymTensors.STLeg(-1, [0, 1], [1, 1])), Tuple{Int64,Int64}[(1, 0)], Array{Float64,2}[[1.0]]), SymTensors.SymTensor{Float64,2}(-1, (SymTensors.STLeg(1, [0, 1], [1, 1]), SymTensors.STLeg(-1, [0, 1], [1, 1])), Tuple{Int64,Int64}[(0, 1)], Array{Float64,2}[[0.5]]))])"
      ]
     },
     "execution_count": 15,
     "metadata": {},
     "output_type": "execute_result"
    }
   ],
   "source": [
    "smodel.inters"
   ]
  },
  {
   "cell_type": "code",
   "execution_count": null,
   "metadata": {},
   "outputs": [],
   "source": [
    "n=1\n",
    "i,j=1,1\n",
    "display(legacympo.tensors[n][i,:,j,:])\n",
    "display(mpo.tensors[n][i,:,j,:])"
   ]
  },
  {
   "cell_type": "code",
   "execution_count": null,
   "metadata": {},
   "outputs": [],
   "source": [
    "nbodyopexpansion(2, 0.25 * (ringexchangeoperator(2) - I(4)))"
   ]
  },
  {
   "cell_type": "code",
   "execution_count": null,
   "metadata": {},
   "outputs": [],
   "source": []
  }
 ],
 "metadata": {
  "kernelspec": {
   "display_name": "Julia 1.2.0",
   "language": "julia",
   "name": "julia-1.2"
  },
  "language_info": {
   "file_extension": ".jl",
   "mimetype": "application/julia",
   "name": "julia",
   "version": "1.2.0"
  }
 },
 "nbformat": 4,
 "nbformat_minor": 4
}
