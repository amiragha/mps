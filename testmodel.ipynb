{
 "cells": [
  {
   "cell_type": "code",
   "execution_count": 1,
   "metadata": {},
   "outputs": [],
   "source": [
    "using Revise"
   ]
  },
  {
   "cell_type": "code",
   "execution_count": 2,
   "metadata": {},
   "outputs": [
    {
     "name": "stderr",
     "output_type": "stream",
     "text": [
      "┌ Info: Recompiling stale cache file /home/amir/.julia/compiled/v1.2/QuantumModel.ji for QuantumModel [top-level]\n",
      "└ @ Base loading.jl:1240\n",
      "┌ Info: Recompiling stale cache file /home/amir/.julia/compiled/v1.2/MatrixProductStateTools.ji for MatrixProductStateTools [top-level]\n",
      "└ @ Base loading.jl:1240\n"
     ]
    }
   ],
   "source": [
    "push!(LOAD_PATH, \"/home/amir/work/mps/src/\")\n",
    "\n",
    "using QuantumModel\n",
    "using MatrixProductStateTools"
   ]
  },
  {
   "cell_type": "code",
   "execution_count": 8,
   "metadata": {},
   "outputs": [],
   "source": [
    "lx = 2\n",
    "j1, j2 = 1.0, 0.3\n",
    "model = j1j2model(lx, j1, j2)\n",
    "mpo = generatempo(model);\n",
    "legacympo = MatrixProductStateTools.j1j2_mpo(lx, j1, j2, 2);"
   ]
  },
  {
   "cell_type": "code",
   "execution_count": 9,
   "metadata": {},
   "outputs": [
    {
     "data": {
      "text/plain": [
       "true"
      ]
     },
     "execution_count": 9,
     "metadata": {},
     "output_type": "execute_result"
    }
   ],
   "source": [
    "mpo2hamiltonian(legacympo) ≈ mpo2hamiltonian(mpo)"
   ]
  },
  {
   "cell_type": "code",
   "execution_count": null,
   "metadata": {},
   "outputs": [],
   "source": [
    "n=1\n",
    "i,j=1,1\n",
    "display(legacympo.tensors[n][i,:,j,:])\n",
    "display(mpo.tensors[n][i,:,j,:])"
   ]
  },
  {
   "cell_type": "code",
   "execution_count": null,
   "metadata": {},
   "outputs": [],
   "source": []
  }
 ],
 "metadata": {
  "kernelspec": {
   "display_name": "Julia 1.2.0",
   "language": "julia",
   "name": "julia-1.2"
  },
  "language_info": {
   "file_extension": ".jl",
   "mimetype": "application/julia",
   "name": "julia",
   "version": "1.2.0"
  }
 },
 "nbformat": 4,
 "nbformat_minor": 4
}
