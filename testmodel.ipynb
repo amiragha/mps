{
 "cells": [
  {
   "cell_type": "code",
   "execution_count": 1,
   "metadata": {},
   "outputs": [],
   "source": [
    "using Revise"
   ]
  },
  {
   "cell_type": "code",
   "execution_count": 4,
   "metadata": {},
   "outputs": [
    {
     "name": "stderr",
     "output_type": "stream",
     "text": [
      "┌ Info: Precompiling MatrixProductStateTools [top-level]\n",
      "└ @ Base loading.jl:1242\n"
     ]
    }
   ],
   "source": [
    "push!(LOAD_PATH, \"/home/amir/work/mps/src/\")\n",
    "\n",
    "using QuantumModel\n",
    "using MatrixProductStateTools"
   ]
  },
  {
   "cell_type": "code",
   "execution_count": 6,
   "metadata": {},
   "outputs": [
    {
     "data": {
      "text/plain": [
       "UnitCellQModel{QuantumModel.SpinType,1}(QuantumModel.SpinType(2), QLattice{1}(UnitCell{1}(1, Tuple{Float64}[(0.0,)], Tuple{Float64}[(1.0,)]), (8,), :OBC), QModelInteraction[QModelInteraction{1,2,Float64}(1.0, (1, 1), ((0,), (1,)), (1,), Tuple{Array{Float64,2},Array{Float64,2}}[([0.5 0.0; 0.0 -0.5], [0.5 0.0; 0.0 -0.5]), ([0.0 1.0; 0.0 0.0], [0.0 0.0; 0.5 0.0]), ([0.0 0.0; 1.0 0.0], [0.0 0.5; 0.0 0.0])]), QModelInteraction{1,2,Float64}(0.3, (1, 1), ((0,), (2,)), (1,), Tuple{Array{Float64,2},Array{Float64,2}}[([0.5 0.0; 0.0 -0.5], [0.5 0.0; 0.0 -0.5]), ([0.0 1.0; 0.0 0.0], [0.0 0.0; 0.5 0.0]), ([0.0 0.0; 1.0 0.0], [0.0 0.5; 0.0 0.0])])])"
      ]
     },
     "execution_count": 6,
     "metadata": {},
     "output_type": "execute_result"
    }
   ],
   "source": [
    "model = j1j2model(1.0, 0.3, 8)"
   ]
  },
  {
   "cell_type": "code",
   "execution_count": 20,
   "metadata": {},
   "outputs": [
    {
     "ename": "UndefVarError",
     "evalue": "UndefVarError: lx not defined",
     "output_type": "error",
     "traceback": [
      "UndefVarError: lx not defined",
      "",
      "Stacktrace:",
      " [1] generatempo(::UnitCellQModel{SpinType,1}) at /home/amir/work/mps/src/mpogen.jl:12",
      " [2] top-level scope at In[20]:1"
     ]
    }
   ],
   "source": [
    "generatempo(model)"
   ]
  },
  {
   "cell_type": "code",
   "execution_count": 17,
   "metadata": {},
   "outputs": [
    {
     "data": {
      "text/plain": [
       "true"
      ]
     },
     "execution_count": 17,
     "metadata": {},
     "output_type": "execute_result"
    }
   ],
   "source": [
    "typeof(SpinType(2)) <: SpinType"
   ]
  },
  {
   "cell_type": "code",
   "execution_count": null,
   "metadata": {},
   "outputs": [],
   "source": []
  }
 ],
 "metadata": {
  "kernelspec": {
   "display_name": "Julia 1.2.0",
   "language": "julia",
   "name": "julia-1.2"
  },
  "language_info": {
   "file_extension": ".jl",
   "mimetype": "application/julia",
   "name": "julia",
   "version": "1.2.0"
  }
 },
 "nbformat": 4,
 "nbformat_minor": 4
}
