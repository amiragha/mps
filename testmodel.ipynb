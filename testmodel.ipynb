{
 "cells": [
  {
   "cell_type": "code",
   "execution_count": 1,
   "metadata": {},
   "outputs": [],
   "source": [
    "using Revise"
   ]
  },
  {
   "cell_type": "code",
   "execution_count": 14,
   "metadata": {},
   "outputs": [
    {
     "name": "stderr",
     "output_type": "stream",
     "text": [
      "┌ Info: Precompiling QuantumModel [top-level]\n",
      "└ @ Base loading.jl:1242\n",
      "ERROR: LoadError: LoadError: UndefVarError: sz not defined\n",
      "Stacktrace:\n",
      " [1] top-level scope at /home/amir/work/mps/src/model3.jl:73\n",
      " [2] include at ./Base.jl:31 [inlined]\n",
      " [3] include(::String) at /home/amir/work/mps/src/QuantumModel.jl:1\n",
      " [4] top-level scope at /home/amir/work/mps/src/QuantumModel.jl:3\n",
      " [5] top-level scope at none:2\n",
      "in expression starting at /home/amir/work/mps/src/model3.jl:73\n",
      "in expression starting at /home/amir/work/mps/src/QuantumModel.jl:3\n"
     ]
    },
    {
     "ename": "ErrorException",
     "evalue": "Failed to precompile QuantumModel [top-level] to /home/amir/.julia/compiled/v1.2/QuantumModel.ji.",
     "output_type": "error",
     "traceback": [
      "Failed to precompile QuantumModel [top-level] to /home/amir/.julia/compiled/v1.2/QuantumModel.ji.",
      "",
      "Stacktrace:",
      " [1] compilecache(::Base.PkgId, ::String) at ./loading.jl:1253",
      " [2] _require(::Base.PkgId) at ./loading.jl:1013",
      " [3] require(::Base.PkgId) at ./loading.jl:911",
      " [4] require(::Module, ::Symbol) at ./loading.jl:906",
      " [5] top-level scope at In[14]:2"
     ]
    }
   ],
   "source": [
    "push!(LOAD_PATH, \"/home/amir/work/mps/src/\")\n",
    "\n",
    "using QuantumModel"
   ]
  },
  {
   "cell_type": "code",
   "execution_count": null,
   "metadata": {},
   "outputs": [],
   "source": []
  }
 ],
 "metadata": {
  "kernelspec": {
   "display_name": "Julia 1.2.0",
   "language": "julia",
   "name": "julia-1.2"
  },
  "language_info": {
   "file_extension": ".jl",
   "mimetype": "application/julia",
   "name": "julia",
   "version": "1.2.0"
  }
 },
 "nbformat": 4,
 "nbformat_minor": 4
}
