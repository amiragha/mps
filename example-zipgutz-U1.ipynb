{
 "cells": [
  {
   "cell_type": "code",
   "execution_count": null,
   "metadata": {},
   "outputs": [],
   "source": [
    "using Revise"
   ]
  },
  {
   "cell_type": "code",
   "execution_count": null,
   "metadata": {},
   "outputs": [],
   "source": [
    "push!(LOAD_PATH, \"/home/amir/work/mps/src/\")\n",
    "\n",
    "using KrylovKit\n",
    "using SparseArrays\n",
    "using LinearAlgebra\n",
    "using Plots\n",
    "using LaTeXStrings\n",
    "using FFTW\n",
    "using LsqFit\n",
    "\n",
    "using QuantumModels\n",
    "using MatrixProductStateTools\n",
    "using ExactDiagonalizationTools\n",
    "using SymTensors\n",
    "using GaussianFermions\n",
    "using GutzwillerMPS"
   ]
  },
  {
   "cell_type": "code",
   "execution_count": null,
   "metadata": {},
   "outputs": [],
   "source": [
    "#include(\"/home/amir/work/mps/test/runtests.jl\");"
   ]
  },
  {
   "cell_type": "code",
   "execution_count": null,
   "metadata": {},
   "outputs": [],
   "source": [
    "# exact Heisenberg AF mps\n",
    "lx = 16\n",
    "H, block_states = xxz_hamiltonian(lx, 1.0, mode=:U1)\n",
    "es, vs = eigsolve(H, 1, :SR, ishermitian=true)\n",
    "mpsheis = U1MPState(lx, 2, vs[1]);"
   ]
  },
  {
   "cell_type": "code",
   "execution_count": null,
   "metadata": {},
   "outputs": [],
   "source": [
    "sz, sp, sm = spinoperators(1/2, symmetry=:U1)\n",
    "heis_pm = measure(mpsheis, sp, sm)\n",
    "heis_mp = measure(mpsheis, sm, sp)\n",
    "heis_zz = measure(mpsheis, sz, sz)\n",
    "indexes = [(1,l+1) for l=1:lx-1]\n",
    "\n",
    "p = plot(xaxis=(L\"$x$\"), yaxis=(L\"$\\langle s^\\alpha_1 s^\\beta_x\\rangle$\"), legend=:bottomright)\n",
    "plot!(p, [2:lx], [heis_zz[i] for i in indexes], marker=(:circle), label=L\"\\alpha=z, \\beta=z\")\n",
    "plot!(p, [2:lx], [heis_pm[i] for i in indexes], marker=(:circle), label=L\"\\alpha=+, \\beta=-\")\n",
    "plot!(p, [2:lx], [heis_mp[i] for i in indexes], marker=(:circle), label=L\"\\alpha=-, \\beta=+\")"
   ]
  },
  {
   "cell_type": "code",
   "execution_count": null,
   "metadata": {},
   "outputs": [],
   "source": [
    "# Fermionic hopping mps using Fishman gates\n",
    "L = 1 * lx\n",
    "m = 100\n",
    "hamil = generatebdg(triangularhopping((1,lx), 1.0, 15., 15., 15., boundary=(:OBC, :OBC)))\n",
    "cm = correlationmatrix(hamil, div(L,2))\n",
    "fgs = corrmat2gmps(cm)\n",
    "mps = gmps2mps(fgs, m, symmetry=:U1)\n",
    "\n",
    "fhop_pm = measure(mps, sp, sm)\n",
    "#fhop_mp = measure(mps, sm, sp)\n",
    "fhop_zz = measure(mps, sz, sz)\n",
    "indexes = [(1,l+1) for l=1:lx-1]\n",
    "\n",
    "p = plot(xaxis=(L\"$x$\"), yaxis=(L\"$\\langle s^\\alpha_1 s^\\beta_x\\rangle$\"), legend=:bottomright)\n",
    "plot!(p, [2:lx], [fhop_zz[i] for i in indexes], marker=(:circle), label=L\"\\alpha=z, \\beta=z\")\n",
    "plot!(p, [2:lx], [fhop_pm[i] for i in indexes], marker=(:circle), label=L\"\\alpha=+, \\beta=-\")\n",
    "#plot!(p, [2:lx], [fhop_mp[i] for i in indexes], marker=(:circle), label=L\"\\alpha=-, \\beta=+\")"
   ]
  },
  {
   "cell_type": "code",
   "execution_count": null,
   "metadata": {},
   "outputs": [],
   "source": [
    "# zip and gutzwiller method\n",
    "mpsgutz = zipandgutzwiller!(mps, mps, maxdim=10);\n",
    "@show norm(mpsgutz)\n",
    "normalize!(mpsgutz);\n",
    "@show norm(mpsgutz)"
   ]
  },
  {
   "cell_type": "code",
   "execution_count": null,
   "metadata": {},
   "outputs": [],
   "source": [
    "entgutz = entanglemententropy(mpsgutz);\n",
    "entheis = entanglemententropy(mpsheis);\n",
    "\n",
    "#@show mps_dims_are_consistent(mpsgutz)\n",
    "zzdata = (measure(mpsgutz, sz, sz))\n",
    "pmdata = (measure(mpsgutz, sp, sm)) \n",
    "mpdata = (measure(mpsgutz, sm, sp)) \n",
    "\n",
    "pR = plot(xaxis=(L\"$x$\"), yaxis=(L\"$\\langle \\mathbf{S}_1 \\cdot \\mathbf{S}_x\\rangle$\"), legend=false)\n",
    "pF = plot(\n",
    "    xaxis=(L\"q\", (0, pi), ([0,pi/2,pi], [L\"0\", L\"\\pi/2\", L\"\\pi\"])),\n",
    "    yaxis=(L\"\\langle \\mathbf{S}_q \\cdot \\mathbf{S}_{-q}\\rangle\"),\n",
    "    legend=false\n",
    ")\n",
    "\n",
    "indexes = [(1,l+1) for l=1:lx-1]\n",
    "data = [zzdata[i] for i in indexes] + [pmdata[i] for i in indexes]\n",
    "data = vcat([3/4.], data)\n",
    "\n",
    "#plot!(pR, [1:lx], data, marker=(:circle))\n",
    "plot!(pR, [2:lx], [zzdata[i] for i in indexes], marker=(:circle))\n",
    "plot!(pR, [2:lx], [pmdata[i] for i in indexes], marker=(:circle))\n",
    "plot!(pR, [2:lx], [mpdata[i] for i in indexes], marker=(:circle))\n",
    "\n",
    "fdata = rfft(data)\n",
    "qs = range(0, pi, length=div(lx,2)+1)\n",
    "plot!(pF, qs, real.(fdata))\n",
    "    \n",
    "plot(pF, pR, size=(800,400), layout=(1,2))"
   ]
  },
  {
   "cell_type": "code",
   "execution_count": null,
   "metadata": {},
   "outputs": [],
   "source": [
    "entgutz = entanglemententropy(mpsgutz);\n",
    "entheis = entanglemententropy(mpsheis);"
   ]
  },
  {
   "cell_type": "code",
   "execution_count": null,
   "metadata": {},
   "outputs": [],
   "source": [
    "@. fitfn(x, p) = p[1]/6 * log(lx/pi * sin(pi*x/lx)) + p[2]\n",
    "fitgutz = curve_fit(fitfn, collect(1:lx-1), entgutz, [1., 0.5])\n",
    "csgutz = coef(fitgutz)\n",
    "println(\"Gutzwiller fit\", csgutz)\n",
    "\n",
    "fitheis = curve_fit(fitfn, collect(1:lx-1), entheis, [1., 0.5])\n",
    "csheis = coef(fitheis)\n",
    "println(\"Heisenberg fit\", csheis)\n",
    "xsfill = range(1, lx-1, length=100)\n",
    "\n",
    "p = plot(\n",
    "    xaxis=(L\"\\ell\"),\n",
    "    yaxis=(L\"S_1(\\ell)\"),\n",
    "    legend=:bottom\n",
    ")\n",
    "plot!(p, entgutz, label=\"Gutz\")\n",
    "plot!(p, xsfill, fitfn(xsfill, csgutz), label=latexstring(\"c = $(csgutz[1])\"))\n",
    "\n",
    "plot!(p, entheis, label=\"Heis\")\n",
    "plot!(p, xsfill, fitfn(xsfill, csheis), label=latexstring(\"c = $(csheis[1])\"))"
   ]
  }
 ],
 "metadata": {
  "kernelspec": {
   "display_name": "Julia 1.3.0",
   "language": "julia",
   "name": "julia-1.3"
  },
  "language_info": {
   "file_extension": ".jl",
   "mimetype": "application/julia",
   "name": "julia",
   "version": "1.3.0"
  }
 },
 "nbformat": 4,
 "nbformat_minor": 4
}
