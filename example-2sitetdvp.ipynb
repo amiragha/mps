{
 "cells": [
  {
   "cell_type": "code",
   "execution_count": null,
   "metadata": {},
   "outputs": [],
   "source": [
    "using Revise"
   ]
  },
  {
   "cell_type": "code",
   "execution_count": null,
   "metadata": {},
   "outputs": [],
   "source": [
    "push!(LOAD_PATH, \"/home/amir/work/mps/src/\")\n",
    "\n",
    "using QuantumModels\n",
    "using ExactDiagonalizationTools\n",
    "using MatrixProductStateTools\n",
    "using TensorNetAlgs\n",
    "using LaTeXStrings\n",
    "using Plots\n",
    "using LsqFit"
   ]
  },
  {
   "cell_type": "code",
   "execution_count": null,
   "metadata": {},
   "outputs": [],
   "source": [
    "lx = 61\n",
    "tol = 1.e-9\n",
    "maxdim = 16\n",
    "\n",
    "# Find the ground sate Ising Transverse Field model\n",
    "mps = MPS{Float64}(lx, 2, noise=0.2);\n",
    "mpo = qitf_mpo(Float64, lx, 2, 0.9)\n",
    "env = initialenv(mps, mpo)\n",
    "\n",
    "for sweep = 1:4\n",
    "    println(\"Starting sweep number $sweep\")\n",
    "    dmrg2sitesweep!(mps, mpo, env, maxdim=maxdim, tol=tol, verbose=false)\n",
    "end\n",
    "println(\"Done with DMRG!\")\n",
    "\n",
    "sz, sp, sm = spinoperators(1/2)\n",
    "sx = (sp + sm)/2.\n",
    "\n",
    "data = []\n",
    "half = div(lx, 2)+1\n",
    "apply!(mps, 2 .*sx, half)\n",
    "push!(data, [measure(mps, sz)[l] for l in 1:lx])\n",
    "\n",
    "dt = 0.05\n",
    "tfinal = 15.0\n",
    "\n",
    "mpsc = convert(MPS{ComplexF64}, mps)\n",
    "mpoc = convert(MPO{ComplexF64}, mpo)\n",
    "env = initialenv(mpsc, mpoc)\n",
    "\n",
    "for t=dt:dt:tfinal\n",
    "    tdvp2sitesweep!(dt, mpsc, mpoc, env, maxdim=maxdim, tol=tol, verbose=false)\n",
    "    if round(2*t) ≈ 2*t \n",
    "        println(\"time : $t\")\n",
    "        push!(data, real.([measure(mpsc, sz)[l] for l in 1:lx]))\n",
    "    end\n",
    "end"
   ]
  },
  {
   "cell_type": "code",
   "execution_count": null,
   "metadata": {},
   "outputs": [],
   "source": [
    "p = plot(title=\"TDVP evolution gs of QITF, L=$lx\",\n",
    "    xaxis = L\"\\ell\", yaxis=L\"$S^z(\\ell)$\", legend=false)\n",
    "jump=1\n",
    "for i=1:jump:length(data)\n",
    "    plot!(p, 1:lx, -data[i])#, #label=latexstring(\"t=$((i-1)/2)\"))\n",
    "end\n",
    "p"
   ]
  },
  {
   "cell_type": "code",
   "execution_count": null,
   "metadata": {},
   "outputs": [],
   "source": [
    "function findsigmas(data)\n",
    "    lx = length(data[1])\n",
    "    nts = length(data)\n",
    "    half = div(lx,2)+1\n",
    "    @. fitfn(x, p) = p[1] * 1/(p[2]*sqrt(2*pi)) * exp(-1/2. * ((x-half)/p[2])^2)\n",
    "\n",
    "    ps = zeros(2, nts)\n",
    "    for n=1:nts\n",
    "        fit = curve_fit(fitfn, collect(1:lx), data[n], [1., 1.])\n",
    "        ps[:,n] = coef(fit)\n",
    "    end\n",
    "    ps[2,:]\n",
    "end"
   ]
  },
  {
   "cell_type": "code",
   "execution_count": null,
   "metadata": {},
   "outputs": [],
   "source": [
    "ts = 1:0.5:tfinal\n",
    "plt=plot(xaxis=(L\"t\"), yaxis=(L\"\\sigma^2\"), legend=:topleft)\n",
    "sigmas = findsigmas(-data)\n",
    "plot!(plt, ts.^2, (sigmas.^2)[1:length(ts)], l=false, m=:c, label=latexstring(\"L=$lx\"))"
   ]
  },
  {
   "cell_type": "code",
   "execution_count": null,
   "metadata": {},
   "outputs": [],
   "source": []
  }
 ],
 "metadata": {
  "kernelspec": {
   "display_name": "Julia 1.3.1",
   "language": "julia",
   "name": "julia-1.3"
  },
  "language_info": {
   "file_extension": ".jl",
   "mimetype": "application/julia",
   "name": "julia",
   "version": "1.3.1"
  }
 },
 "nbformat": 4,
 "nbformat_minor": 4
}
