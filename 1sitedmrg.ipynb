{
 "cells": [
  {
   "cell_type": "code",
   "execution_count": null,
   "metadata": {},
   "outputs": [],
   "source": [
    "using Revise"
   ]
  },
  {
   "cell_type": "code",
   "execution_count": null,
   "metadata": {},
   "outputs": [],
   "source": [
    "push!(LOAD_PATH, \"/home/amir/work/mps/src/\")\n",
    "\n",
    "using ExactDiagonalizationTools\n",
    "using MatrixProductStateTools\n",
    "using TensorNetAlgs\n",
    "using Plots"
   ]
  },
  {
   "cell_type": "markdown",
   "metadata": {},
   "source": [
    "# Testing DMRG 1site algorithm"
   ]
  },
  {
   "cell_type": "code",
   "execution_count": null,
   "metadata": {},
   "outputs": [],
   "source": [
    "### testing DMRG 1site algorithm\n",
    "lx = 16\n",
    "maxdim = 40\n",
    "mps = randmps(Float64, lx, 2, maxdim);\n",
    "mpo = xxz_mpo(Float64, lx, 2, 1.0)\n",
    "env = initialenv(mps, mpo)\n",
    "\n",
    "for sweep = 1:5\n",
    "    println(\"Starting sweep number $sweep\")\n",
    "    dmrg1sitesweep!(mps, mpo, env, verbose=false)\n",
    "    println()\n",
    "end\n"
   ]
  },
  {
   "cell_type": "code",
   "execution_count": null,
   "metadata": {},
   "outputs": [],
   "source": [
    "println(\"Energy : \", measure_mpo(mps, mpo))\n",
    "sz = Matrix(sz_half)\n",
    "data = measure_2point(mps, sz, sz);\n",
    "plot(data[[half_measurement_index(lx, 1, l) for l in 2:lx-1]])"
   ]
  }
 ],
 "metadata": {
  "kernelspec": {
   "display_name": "Julia 1.1.0",
   "language": "julia",
   "name": "julia-1.1"
  },
  "language_info": {
   "file_extension": ".jl",
   "mimetype": "application/julia",
   "name": "julia",
   "version": "1.1.1"
  }
 },
 "nbformat": 4,
 "nbformat_minor": 2
}
