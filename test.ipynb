{
 "cells": [
  {
   "cell_type": "code",
   "execution_count": null,
   "metadata": {},
   "outputs": [],
   "source": [
    "using Revise"
   ]
  },
  {
   "cell_type": "code",
   "execution_count": null,
   "metadata": {},
   "outputs": [],
   "source": [
    "push!(LOAD_PATH, \"/home/amir/work/mps/src/\")\n",
    "\n",
    "using KrylovKit\n",
    "using SparseArrays\n",
    "using LinearAlgebra\n",
    "using Plots\n",
    "\n",
    "using MatrixProductStateTools\n",
    "using ExactDiagonalizationTools\n",
    "using SymTensors\n",
    "using GaussianFermions\n",
    "using GutzwillerMPS"
   ]
  },
  {
   "cell_type": "code",
   "execution_count": null,
   "metadata": {},
   "outputs": [],
   "source": [
    "include(\"/home/amir/work/mps/test/runtests.jl\")"
   ]
  },
  {
   "cell_type": "code",
   "execution_count": null,
   "metadata": {},
   "outputs": [],
   "source": [
    "⊗ = kron\n",
    "H = xxz_hamiltonian(8)\n",
    "es, vs = eigsolve(H, 1, :SR)\n",
    "extended_sz(lx, l) = sparse(1.0I, 2^(l-1), 2^(l-1)) ⊗ [1.0 0; 0. -1.0] ⊗ sparse(1.0I, 2^(lx-l), 2^(lx-l))\n",
    "mps = MatrixProductState(8, 2, vs[1])\n",
    "szvals = [measure_1point(mps, [1.0 0.0; 0.0 -1.0], l) for l in 1:8]\n",
    "@show szvals\n",
    "@show norm2(mps)\n",
    "data1 = measure_2point(mps, [1.0 0.0; 0.0 -1.0], [1.0 0.0; 0.0 -1.0]) \n",
    "data1[[half_measurement_index(8,1,l+1) for l=1:7]]\n",
    "plot(data1[[half_measurement_index(8,1,l+1) for l=1:7]])"
   ]
  },
  {
   "cell_type": "code",
   "execution_count": null,
   "metadata": {},
   "outputs": [],
   "source": [
    "cm = correlationmatrix(hopping_chain(8, boundary=:OBC), 4)\n",
    "fgs = generate_fishmangates(cm)\n",
    "mps = fishman2mps(fgs, 100)\n",
    "data = measure_2point(mps, [1.0 0.0; 0.0 -1.0], [1.0 0.0; 0.0 -1.0]) \n",
    "plot(data[[half_measurement_index(8,1,l+1) for l=1:7]])"
   ]
  },
  {
   "cell_type": "code",
   "execution_count": null,
   "metadata": {},
   "outputs": [],
   "source": [
    "mpsgutz = zipandgutzwiller!(mps, mps);"
   ]
  },
  {
   "cell_type": "code",
   "execution_count": null,
   "metadata": {},
   "outputs": [],
   "source": [
    "@show mps_dims_are_consistent(mpsgutz)\n",
    "data = measure_2point(mpsgutz, [1.0 0.0; 0.0 -1.0], [1.0 0.0; 0.0 -1.0]) \n",
    "data = real.(data ./ norm2(mpsgutz))\n",
    "@show norm2(mpsgutz)\n",
    "p = plot( data[[half_measurement_index(8,1,l+1) for l=1:7]] )\n",
    "plot!(p,  data1[[half_measurement_index(8,1,l+1) for l=1:7]] )"
   ]
  },
  {
   "cell_type": "code",
   "execution_count": null,
   "metadata": {},
   "outputs": [],
   "source": [
    "function zero_small!(M::AbstractArray, tol=1.e-14)\n",
    "    for l in eachindex(M)\n",
    "        if abs(M[l]) ≤ tol\n",
    "            M[l] = 0\n",
    "        end\n",
    "    end\n",
    "    M\n",
    "end"
   ]
  },
  {
   "cell_type": "code",
   "execution_count": null,
   "metadata": {},
   "outputs": [],
   "source": [
    "# ok perfect! Now we do this using symmetric tensors\n",
    "lx = 16\n",
    "H, block_states = xxz_hamiltonian(lx, mode=:U1)\n",
    "es, vs = eigsolve(H, 1, :SR)\n",
    "symmps = SymMatrixProductState(lx, 2, vs[1])\n",
    "sym_sz = SymTensor(0, \n",
    "    (STLeg(+1, [0, 1], [1, 1]), STLeg(-1, [0, 1], [1, 1])),\n",
    "    [(0, 0), (1, 1)],\n",
    "    [-.5*ones(1,1), .5*ones(1,1)]\n",
    ")\n",
    "szvals = [measure_1point(symmps, sym_sz, l) for l in 1:8]\n",
    "@show szvals\n",
    "#@show norm2(mps)\n",
    "measure_1point(symmps, sym_sz)\n",
    "data1 = measure_2point(symmps, sym_sz, sym_sz) \n",
    "plot(data1[[half_measurement_index(lx,1,l+1) for l=1:lx-1]])"
   ]
  },
  {
   "cell_type": "code",
   "execution_count": null,
   "metadata": {},
   "outputs": [],
   "source": [
    "lx=8\n",
    "cm = correlationmatrix(hopping_chain(lx, boundary=:OBC), 4)\n",
    "fgs = generate_fishmangates_sym(cm)\n",
    "mps = fishman2symmps(fgs, 100)\n",
    "data = measure_2point(mps, sym_sz, sym_sz) \n",
    "plot(data[[half_measurement_index(lx,1,l+1) for l=1:lx-1]])"
   ]
  }
 ],
 "metadata": {
  "kernelspec": {
   "display_name": "Julia 1.1.0",
   "language": "julia",
   "name": "julia-1.1"
  },
  "language_info": {
   "file_extension": ".jl",
   "mimetype": "application/julia",
   "name": "julia",
   "version": "1.1.1"
  }
 },
 "nbformat": 4,
 "nbformat_minor": 2
}
