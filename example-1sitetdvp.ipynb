{
 "cells": [
  {
   "cell_type": "code",
   "execution_count": null,
   "metadata": {},
   "outputs": [],
   "source": [
    "using Revise"
   ]
  },
  {
   "cell_type": "code",
   "execution_count": null,
   "metadata": {},
   "outputs": [],
   "source": [
    "push!(LOAD_PATH, \"/home/amir/work/mps/src/\")\n",
    "\n",
    "using QuantumModels\n",
    "using ExactDiagonalizationTools\n",
    "using MatrixProductStateTools\n",
    "using TensorNetAlgs\n",
    "using Plots"
   ]
  },
  {
   "cell_type": "code",
   "execution_count": null,
   "metadata": {},
   "outputs": [],
   "source": [
    "# Find the ground sate Ising Transverse Field model\n",
    "lx = 100\n",
    "tol = 1.e-9\n",
    "maxdim = 200\n",
    "\n",
    "mps = MPS{Float64}(lx, 2, noise=0.2);\n",
    "\n",
    "mpo = qitf_mpo(Float64, lx, 2, 0.9)\n",
    "env = initialenv(mps, mpo)\n",
    "\n",
    "for sweep = 1:4\n",
    "    println(\"Starting sweep number $sweep\")\n",
    "    dmrg2sitesweep!(mps, mpo, env, maxdim=maxdim, tol=tol, verbose=false)\n",
    "    #println()\n",
    "end"
   ]
  },
  {
   "cell_type": "code",
   "execution_count": null,
   "metadata": {},
   "outputs": [],
   "source": [
    "\n",
    "sz, sp, sm = spinoperators(1/2)\n",
    "sx = (sp + sm)/2.\n",
    "\n",
    "data = []\n",
    "half = div(lx, 2)\n",
    "for l = half-2:half+2\n",
    "    apply!(mps, 2 .*sx, l)\n",
    "end\n",
    "push!(data, [measure(mps, sz)[l] for l in 1:lx])\n",
    "dt = 0.01\n",
    "mpsc = convert(MPS{ComplexF64}, mps)\n",
    "mpoc = convert(MPO{ComplexF64}, mpo)\n",
    "env = initialenv(mpsc, mpoc)\n",
    "for t=1:20\n",
    "    for i = 1:50\n",
    "        tdvp1sitesweep!(dt, mpsc, mpoc, env, verbose=false)\n",
    "    end\n",
    "    push!(data, real.([measure(mpsc, sz)[l] for l in 1:lx]))\n",
    "end"
   ]
  },
  {
   "cell_type": "code",
   "execution_count": null,
   "metadata": {},
   "outputs": [],
   "source": [
    "p = plot()\n",
    "for i=1:length(data)\n",
    "    plot!(p, 1:lx, -data[i])\n",
    "end\n",
    "p"
   ]
  },
  {
   "cell_type": "code",
   "execution_count": null,
   "metadata": {},
   "outputs": [],
   "source": []
  }
 ],
 "metadata": {
  "kernelspec": {
   "display_name": "Julia 1.3.1",
   "language": "julia",
   "name": "julia-1.3"
  },
  "language_info": {
   "file_extension": ".jl",
   "mimetype": "application/julia",
   "name": "julia",
   "version": "1.3.1"
  }
 },
 "nbformat": 4,
 "nbformat_minor": 4
}
