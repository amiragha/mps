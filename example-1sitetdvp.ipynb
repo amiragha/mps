{
 "cells": [
  {
   "cell_type": "code",
   "execution_count": null,
   "metadata": {},
   "outputs": [],
   "source": [
    "using Revise"
   ]
  },
  {
   "cell_type": "code",
   "execution_count": null,
   "metadata": {},
   "outputs": [],
   "source": [
    "push!(LOAD_PATH, \"/home/amir/work/mps/src/\")\n",
    "\n",
    "using ExactDiagonalizationTools\n",
    "using MatrixProductStateTools\n",
    "using TensorNetAlgs\n",
    "using Plots"
   ]
  },
  {
   "cell_type": "code",
   "execution_count": null,
   "metadata": {},
   "outputs": [],
   "source": [
    "# Find the ground sate Ising Transverse Field model\n",
    "lx = 100\n",
    "tol = 1.e-9\n",
    "maxdim = 200\n",
    "\n",
    "mps = MatrixProductState{Float64}(lx, 2, noise=0.2);\n",
    "\n",
    "mpo = qitf_mpo(Float64, lx, 2, 0.9)\n",
    "env = initialenv(mps, mpo)\n",
    "\n",
    "for sweep = 1:4\n",
    "    println(\"Starting sweep number $sweep\")\n",
    "    dmrg2sitesweep!(mps, mpo, env, maxdim, tol, verbose=false)\n",
    "    #println()\n",
    "end"
   ]
  },
  {
   "cell_type": "code",
   "execution_count": null,
   "metadata": {},
   "outputs": [],
   "source": [
    "sz = Matrix(sz_half)\n",
    "data = []\n",
    "sx = Matrix(sp_half + sm_half)/2.\n",
    "half = div(lx, 2)\n",
    "for l = half-2:half+2\n",
    "    apply_1siteoperator!(mps, l, 2 .*sx)\n",
    "end\n",
    "push!(data, measure_1point(mps, sz))\n",
    "dt = 0.01\n",
    "mpsc = convert(MatrixProductState{ComplexF64}, mps)\n",
    "mpoc = convert(MatrixProductOperator{ComplexF64}, mpo)\n",
    "env = initialenv(mpsc, mpoc)\n",
    "for t=1:20\n",
    "    for i = 1:50\n",
    "        tdvp1sitesweep!(dt, mpsc, mpoc, env, verbose=false)\n",
    "    end\n",
    "    push!(data, real.(measure_1point(mpsc, sz)))\n",
    "end"
   ]
  },
  {
   "cell_type": "code",
   "execution_count": null,
   "metadata": {},
   "outputs": [],
   "source": [
    "p = plot()\n",
    "for i=1:length(data)\n",
    "    plot!(p, 1:lx, data[i])\n",
    "end\n",
    "p"
   ]
  }
 ],
 "metadata": {
  "kernelspec": {
   "display_name": "Julia 1.1.0",
   "language": "julia",
   "name": "julia-1.1"
  },
  "language_info": {
   "file_extension": ".jl",
   "mimetype": "application/julia",
   "name": "julia",
   "version": "1.1.1"
  }
 },
 "nbformat": 4,
 "nbformat_minor": 2
}
