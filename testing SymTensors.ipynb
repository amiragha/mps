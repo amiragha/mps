{
 "cells": [
  {
   "cell_type": "code",
   "execution_count": 1,
   "metadata": {},
   "outputs": [],
   "source": [
    "using Revise"
   ]
  },
  {
   "cell_type": "code",
   "execution_count": 2,
   "metadata": {},
   "outputs": [
    {
     "name": "stderr",
     "output_type": "stream",
     "text": [
      "┌ Info: Recompiling stale cache file /home/amir/.julia/compiled/v1.2/MatrixProductStateTools.ji for MatrixProductStateTools [top-level]\n",
      "└ @ Base loading.jl:1240\n"
     ]
    }
   ],
   "source": [
    "push!(LOAD_PATH, \"/home/amir/work/mps/src/\");\n",
    "\n",
    "#using LinearAlgebra\n",
    "#import LinearAlgebra: mul!, rmul!, axpy!, axpby!, dot, norm\n",
    "\n",
    "#includet(\"src/leg.jl\")\n",
    "#includet(\"src/symtensor.jl\")\n",
    "using MatrixProductStateTools\n",
    "using SymTensors\n",
    "using TensorOperations"
   ]
  },
  {
   "cell_type": "code",
   "execution_count": 3,
   "metadata": {},
   "outputs": [
    {
     "name": "stderr",
     "output_type": "stream",
     "text": [
      "┌ Info: Recompiling stale cache file /home/amir/.julia/compiled/v1.2/ExactDiagonalizationTools.ji for ExactDiagonalizationTools [top-level]\n",
      "└ @ Base loading.jl:1240\n"
     ]
    },
    {
     "name": "stdout",
     "output_type": "stream",
     "text": [
      "\u001b[37m\u001b[1mTest Summary: | \u001b[22m\u001b[39m\u001b[32m\u001b[1mPass  \u001b[22m\u001b[39m\u001b[36m\u001b[1mTotal\u001b[22m\u001b[39m\n",
      "MPS           | \u001b[32m   8  \u001b[39m\u001b[36m    8\u001b[39m\n",
      "\u001b[37m\u001b[1mTest Summary: | \u001b[22m\u001b[39m\u001b[32m\u001b[1mPass  \u001b[22m\u001b[39m\u001b[36m\u001b[1mTotal\u001b[22m\u001b[39m\n",
      "apply         | \u001b[32m   2  \u001b[39m\u001b[36m    2\u001b[39m\n",
      "\u001b[37m\u001b[1mTest Summary: | \u001b[22m\u001b[39m\u001b[32m\u001b[1mPass  \u001b[22m\u001b[39m\u001b[36m\u001b[1mTotal\u001b[22m\u001b[39m\n",
      "MPO           | \u001b[32m  11  \u001b[39m\u001b[36m   11\u001b[39m\n",
      "\u001b[37m\u001b[1mTest Summary: | \u001b[22m\u001b[39m\u001b[32m\u001b[1mPass  \u001b[22m\u001b[39m\u001b[36m\u001b[1mTotal\u001b[22m\u001b[39m\n",
      "releg         | \u001b[32m   3  \u001b[39m\u001b[36m    3\u001b[39m\n",
      "\u001b[37m\u001b[1mTest Summary: | \u001b[22m\u001b[39m\u001b[32m\u001b[1mPass  \u001b[22m\u001b[39m\u001b[36m\u001b[1mTotal\u001b[22m\u001b[39m\n",
      "contract      | \u001b[32m   3  \u001b[39m\u001b[36m    3\u001b[39m\n"
     ]
    },
    {
     "data": {
      "text/plain": [
       "Test.DefaultTestSet(\"contract\", Any[Test.DefaultTestSet(\"matrices\", Any[], 1, false), Test.DefaultTestSet(\"multi leg tensors\", Any[], 2, false)], 0, false)"
      ]
     },
     "execution_count": 3,
     "metadata": {},
     "output_type": "execute_result"
    }
   ],
   "source": [
    "include(\"/home/amir/work/mps/test/runtests.jl\")"
   ]
  },
  {
   "cell_type": "code",
   "execution_count": null,
   "metadata": {},
   "outputs": [],
   "source": [
    "leglist = (\n",
    "    STLeg(+1, [0, 1, 2], [2,3,4]),\n",
    "    STLeg(-1, [0,1,2,3], [4,2,2,3]),\n",
    "    STLeg(+1, [0, 1, 2], [3,5,2]),\n",
    "    STLeg(-1, [0, 1], [6,7]),\n",
    "    STLeg(+1, [0, 1], [6,7]),\n",
    "    STLeg(+1, [0,1,2,3,4], [2,3,4,5,6]),\n",
    "    STLeg(+1, [0,1], [2,3]),\n",
    "    STLeg(-1, [0,1,2], [3,4,5])\n",
    ")\n",
    "\n",
    "A = rand(Float64, 0, leglist[1:4])\n",
    "B = rand(Float64, 0, leglist[5:8])\n",
    "\n",
    "E = rand(Float64, 0, leglist[[1,4]])\n",
    "F = rand(Float64, 0, leglist[[5,8]])\n",
    "\n",
    "\n",
    "idxA = (1,2,3,-1)\n",
    "idxB = (-1,4,5,6)\n",
    "remsA, consA, tofinalsA = SymTensors._contract_index_perm(idxA)\n",
    "remsB, consB, tofinalsB = SymTensors._contract_index_perm(idxB)\n",
    "\n",
    "_A = SymMatrix(A, remsA, consA)\n",
    "_B = SymMatrix(B, consB, remsB)\n",
    "\n",
    "fuselegs(A, +1, 1, 3)\n",
    "@show defuse_leg(fuselegs(A, +1, 1, 3), 1, leglist[1:3]) ≈ A\n",
    "println(A.sects)\n",
    "SymMatrix(A, [1,2,3], [4])\n",
    "A_ = array(A)\n",
    "B_ = array(B)\n",
    "\n",
    "G = contract(E, (1,-1), F, (-1, 2))\n",
    "\n",
    "C = contract(A, (1,2,3,-1), B, (-1,4,5,6));\n",
    "@tensor C_[a,b,c,e,f,g] := A_[a,b,c,d] * B_[d,e,f,g]\n",
    "\n",
    "@show C_ == array(C)"
   ]
  },
  {
   "cell_type": "code",
   "execution_count": null,
   "metadata": {},
   "outputs": [],
   "source": [
    "smat = eye(Float64, 0, [0,1,2], [1,2,1])\n",
    "change_nzblk!(smat, (1,1), rand(2,2))\n",
    "display(smat)\n",
    "rlegs = (STLeg(+1, [0,1], [1,1]), STLeg(+1, [0,1], [1,1]))\n",
    "clegs = (STLeg(-1, [0,1], [1,1]), STLeg(-1, [0,1], [1,1]))\n",
    "sten = defuse_leg(defuse_leg(smat, 2, clegs), 1, rlegs)\n",
    "println(sten)\n",
    "sten.nzblks[1]"
   ]
  },
  {
   "cell_type": "code",
   "execution_count": null,
   "metadata": {},
   "outputs": [],
   "source": [
    "rmul!(sten, 2.)\n",
    "sten.nzblks[4]"
   ]
  },
  {
   "cell_type": "code",
   "execution_count": null,
   "metadata": {
    "scrolled": true
   },
   "outputs": [],
   "source": [
    "legs = STLeg(+1, [0,1], [2,3]), STLeg(+1, [0,1], [1,1]), STLeg(-1, [0,1], [3,4])\n",
    "\n",
    "sects = [(0, 0, 0), (0, 1, 1), (1, 0, 1), (1, 1, 0)]\n",
    "nzblks = float.([rand(1:9, 2,1,3), rand(1:9, 2,1,4), rand(1:9, 3,1,4), rand(1:9, 3,1,3)])\n",
    "\n",
    "#perm = collect(1:3)\n",
    "perm = _sectors_sortperm(sects)\n",
    "#println(perm)\n",
    "\n",
    "\n",
    "test = SymTensor(0, legs, sects[perm], nzblks[perm])\n",
    "ftest = fuse_conseqlegs(test, +1, 1, 2)\n",
    "dftest = defuse_leg(ftest, 1, legs[1:2])\n",
    "@show dftest == test\n",
    "\n",
    "#show(test)\n",
    "arr = array_representation(test)\n",
    "#display(arr[:,1,:])\n",
    "#display(arr[:,2,:])\n",
    "arr;"
   ]
  },
  {
   "cell_type": "code",
   "execution_count": null,
   "metadata": {},
   "outputs": [],
   "source": [
    "l = 4\n",
    "leglist = (\n",
    "    STLeg(+1, collect(0:l), rand(6:10, l+1)),\n",
    "    STLeg(-1, collect(0:l), rand(6:10, l+1)),\n",
    "    STLeg(+1, collect(0:l), rand(6:10, l+1)),\n",
    "    STLeg(-1, collect(0:l), rand(6:10, l+1)),\n",
    "    #STLeg(+1, collect(0:l), rand(6:10, l+1)),\n",
    "    #STLeg(-1, collect(0:l), rand(6:10, l+1)),\n",
    "    #STLeg(+1, collect(0:l), rand(6:10, l+1)),\n",
    "    #STLeg(-1, collect(0:l), rand(6:10, l+1)),\n",
    "    #STLeg(+1, collect(0:l), rand(6:10, l+1))\n",
    ")"
   ]
  },
  {
   "cell_type": "code",
   "execution_count": null,
   "metadata": {},
   "outputs": [],
   "source": [
    "#@show _allsectorsandsizes(0, leglist) == _allsectorsandsizes2(0, leglist)\n",
    "@time sects, sizes = _allsectorsandsizes(0, leglist)\n",
    "issorted(sects, lt=_sectorlessthan)"
   ]
  },
  {
   "cell_type": "code",
   "execution_count": null,
   "metadata": {},
   "outputs": [],
   "source": [
    "@time _allsectorsandsizes2(0, leglist)"
   ]
  },
  {
   "cell_type": "code",
   "execution_count": null,
   "metadata": {},
   "outputs": [],
   "source": [
    "length(sects)"
   ]
  },
  {
   "cell_type": "code",
   "execution_count": null,
   "metadata": {},
   "outputs": [],
   "source": [
    "rand(0, leglist);"
   ]
  }
 ],
 "metadata": {
  "kernelspec": {
   "display_name": "Julia 1.2.0",
   "language": "julia",
   "name": "julia-1.2"
  },
  "language_info": {
   "file_extension": ".jl",
   "mimetype": "application/julia",
   "name": "julia",
   "version": "1.2.0"
  }
 },
 "nbformat": 4,
 "nbformat_minor": 4
}
