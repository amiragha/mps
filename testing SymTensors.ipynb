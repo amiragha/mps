{
 "cells": [
  {
   "cell_type": "code",
   "execution_count": 1,
   "metadata": {},
   "outputs": [],
   "source": [
    "using Revise"
   ]
  },
  {
   "cell_type": "code",
   "execution_count": 2,
   "metadata": {},
   "outputs": [],
   "source": [
    "push!(LOAD_PATH, \"/home/amir/work/mps/src/\");\n",
    "\n",
    "using LinearAlgebra\n",
    "import LinearAlgebra: mul!, rmul!, axpy!, axpby!, dot, norm\n",
    "\n",
    "includet(\"src/leg.jl\")\n",
    "includet(\"src/symtensor.jl\")\n",
    "#using MatrixProductStateTools\n",
    "#using SymTensors\n",
    "#using TensorOperations"
   ]
  },
  {
   "cell_type": "code",
   "execution_count": null,
   "metadata": {},
   "outputs": [],
   "source": [
    "include(\"/home/amir/work/mps/test/runtests.jl\")"
   ]
  },
  {
   "cell_type": "code",
   "execution_count": null,
   "metadata": {},
   "outputs": [],
   "source": [
    "smat = eye(Float64, 0, [0,1,2], [1,2,1])\n",
    "change_nzblk!(smat, (1,1), rand(2,2))\n",
    "display(smat)\n",
    "rlegs = (STLeg(+1, [0,1], [1,1]), STLeg(+1, [0,1], [1,1]))\n",
    "clegs = (STLeg(-1, [0,1], [1,1]), STLeg(-1, [0,1], [1,1]))\n",
    "sten = defuse_leg(defuse_leg(smat, 2, clegs), 1, rlegs)\n",
    "println(sten)\n",
    "sten.nzblks[1]"
   ]
  },
  {
   "cell_type": "code",
   "execution_count": null,
   "metadata": {},
   "outputs": [],
   "source": [
    "rmul!(sten, 2.)\n",
    "sten.nzblks[4]"
   ]
  },
  {
   "cell_type": "code",
   "execution_count": null,
   "metadata": {
    "scrolled": true
   },
   "outputs": [],
   "source": [
    "legs = STLeg(+1, [0,1], [2,3]), STLeg(+1, [0,1], [1,1]), STLeg(-1, [0,1], [3,4])\n",
    "\n",
    "sects = [(0, 0, 0), (0, 1, 1), (1, 0, 1), (1, 1, 0)]\n",
    "nzblks = float.([rand(1:9, 2,1,3), rand(1:9, 2,1,4), rand(1:9, 3,1,4), rand(1:9, 3,1,3)])\n",
    "\n",
    "#perm = collect(1:3)\n",
    "perm = _sectors_sortperm(sects)\n",
    "#println(perm)\n",
    "\n",
    "\n",
    "test = SymTensor(0, legs, sects[perm], nzblks[perm])\n",
    "ftest = fuse_conseqlegs(test, +1, 1, 2)\n",
    "dftest = defuse_leg(ftest, 1, legs[1:2])\n",
    "@show dftest == test\n",
    "\n",
    "#show(test)\n",
    "arr = array_representation(test)\n",
    "#display(arr[:,1,:])\n",
    "#display(arr[:,2,:])\n",
    "arr;"
   ]
  },
  {
   "cell_type": "code",
   "execution_count": null,
   "metadata": {},
   "outputs": [],
   "source": [
    "#leglist = STLeg(+1, [0, 1, 2], [2,3,4]), STLeg(-1, [0,1,2,3], [4,2,2,3]), STLeg(+1, [0, 1, 2], [3,5,2])\n",
    "#sten1 = randSymTensor(Float64, 0, leglist[1:2])\n",
    "#sten2 = fillSymTensor(1.0, 0, leglist[2:3])\n",
    "#@show sten1\n",
    "#@show sten2\n",
    "# question: should I include dimensions that are zero? Not any more an issue of course!"
   ]
  },
  {
   "cell_type": "code",
   "execution_count": null,
   "metadata": {},
   "outputs": [],
   "source": [
    "convert(SymTensor{ComplexF64, 3}, test)"
   ]
  },
  {
   "cell_type": "code",
   "execution_count": null,
   "metadata": {},
   "outputs": [],
   "source": [
    "#contest = contract(sten1, (1, -1), sten2, (-1, 2))\n",
    "#_contract_index_perm([3, -2, -3, 5, 1, -1]) == ([5,1,4], [6,2,3], [1,3,5])"
   ]
  },
  {
   "cell_type": "code",
   "execution_count": null,
   "metadata": {},
   "outputs": [],
   "source": [
    "# testing the contract\n",
    "#arr = array_representation(contest)\n",
    "#arr1 = array_representation(sten1)\n",
    "#arr2 = array_representation(sten2)\n",
    "#arr1*arr2 == arr"
   ]
  },
  {
   "cell_type": "code",
   "execution_count": null,
   "metadata": {},
   "outputs": [],
   "source": [
    "leglist = (\n",
    "    STLeg(+1, [0, 1, 2], [2,3,4]), \n",
    "    STLeg(-1, [0,1 , 2, 3], [4,2,2,3]), \n",
    "    STLeg(+1, [0, 1, 2], [3,5,2]),\n",
    "    STLeg(-1, [0, 1], [6,7]),\n",
    "    STLeg(+1, [0, 1], [6,7]),\n",
    "    STLeg(+1, [0,1,2,3,4], [2,3,4,5,6]),\n",
    "    STLeg(+1, [0,1], [2,3]),\n",
    "    STLeg(-1, [0,1,2], [3,4,5])\n",
    ")\n",
    "sten1 = randSymTensor(Float64, 0, leglist[1:4]);\n",
    "sten2 = randSymTensor(Float64, 0, leglist[5:8]);"
   ]
  },
  {
   "cell_type": "code",
   "execution_count": null,
   "metadata": {
    "scrolled": true
   },
   "outputs": [],
   "source": [
    "arr1 = array_representation(sten1)\n",
    "arr2 = array_representation(sten2)\n",
    "\n",
    "@time contest = contract(sten1, (1,2,3,-1), sten2, (-1,4,5,6));\n",
    "@time @tensor arr[a,b,c,e,f,g] := arr1[a,b,c,d] * arr2[d,e,f,g];\n",
    "\n",
    "@show arr == array_representation(contest);"
   ]
  },
  {
   "cell_type": "code",
   "execution_count": null,
   "metadata": {},
   "outputs": [],
   "source": [
    "contract(sten1, (1,2,3,-1), sten2, (-1,4,5,6))"
   ]
  },
  {
   "cell_type": "code",
   "execution_count": null,
   "metadata": {},
   "outputs": [],
   "source": [
    "legs = (STLeg(+1, [0,1], [1,1]), STLeg(+1, [0,1,2], [1,1,1]), STLeg(-1, [0,1,2,3], [1,1,1,1]))"
   ]
  },
  {
   "cell_type": "code",
   "execution_count": null,
   "metadata": {},
   "outputs": [],
   "source": [
    "SymTensors.fuse(+1, legs[[1,3]])"
   ]
  },
  {
   "cell_type": "code",
   "execution_count": 3,
   "metadata": {},
   "outputs": [
    {
     "data": {
      "text/plain": [
       "(STLeg(1, [0, 1, 2, 3, 4], [9, 7, 6, 6, 7]), STLeg(-1, [0, 1, 2, 3, 4], [9, 9, 6, 6, 6]), STLeg(1, [0, 1, 2, 3, 4], [6, 8, 8, 10, 10]), STLeg(-1, [0, 1, 2, 3, 4], [9, 8, 7, 8, 7]))"
      ]
     },
     "execution_count": 3,
     "metadata": {},
     "output_type": "execute_result"
    }
   ],
   "source": [
    "l = 4\n",
    "leglist = (\n",
    "    STLeg(+1, collect(0:l), rand(6:10, l+1)),\n",
    "    STLeg(-1, collect(0:l), rand(6:10, l+1)),\n",
    "    STLeg(+1, collect(0:l), rand(6:10, l+1)),\n",
    "    STLeg(-1, collect(0:l), rand(6:10, l+1)),\n",
    "    #STLeg(+1, collect(0:l), rand(6:10, l+1)),\n",
    "    #STLeg(-1, collect(0:l), rand(6:10, l+1)),\n",
    "    #STLeg(+1, collect(0:l), rand(6:10, l+1)),\n",
    "    #STLeg(-1, collect(0:l), rand(6:10, l+1)),\n",
    "    #STLeg(+1, collect(0:l), rand(6:10, l+1))\n",
    ")"
   ]
  },
  {
   "cell_type": "code",
   "execution_count": null,
   "metadata": {},
   "outputs": [],
   "source": [
    "#@show _allsectorsandsizes(0, leglist) == _allsectorsandsizes2(0, leglist)\n",
    "@time sects, sizes = _allsectorsandsizes(0, leglist)\n",
    "issorted(sects, lt=_sectorlessthan)"
   ]
  },
  {
   "cell_type": "code",
   "execution_count": null,
   "metadata": {},
   "outputs": [],
   "source": [
    "@time _allsectorsandsizes2(0, leglist)"
   ]
  },
  {
   "cell_type": "code",
   "execution_count": null,
   "metadata": {},
   "outputs": [],
   "source": [
    "length(sects)"
   ]
  },
  {
   "cell_type": "code",
   "execution_count": null,
   "metadata": {},
   "outputs": [],
   "source": [
    "rand(0, leglist);"
   ]
  },
  {
   "cell_type": "code",
   "execution_count": 8,
   "metadata": {},
   "outputs": [
    {
     "data": {
      "text/plain": [
       "1-element Array{SymMatrix{Float64},1}:\n",
       " SymMatrix{Float64}(0, (STLeg(1, [0, 1, 2, 3, 4], [9, 7, 6, 6, 7]), STLeg(-1, [0, 1, 2, 3, 4], [9, 7, 6, 6, 7])), Tuple{Int64,Int64}[(0, 0), (1, 1), (2, 2), (3, 3), (4, 4)], Array{Float64,2}[[1.0 0.0 … 0.0 0.0; 0.0 1.0 … 0.0 0.0; … ; 0.0 0.0 … 1.0 0.0; 0.0 0.0 … 0.0 1.0], [1.0 0.0 … 0.0 0.0; 0.0 1.0 … 0.0 0.0; … ; 0.0 0.0 … 1.0 0.0; 0.0 0.0 … 0.0 1.0], [1.0 0.0 … 0.0 0.0; 0.0 1.0 … 0.0 0.0; … ; 0.0 0.0 … 1.0 0.0; 0.0 0.0 … 0.0 1.0], [1.0 0.0 … 0.0 0.0; 0.0 1.0 … 0.0 0.0; … ; 0.0 0.0 … 1.0 0.0; 0.0 0.0 … 0.0 1.0], [1.0 0.0 … 0.0 0.0; 0.0 1.0 … 0.0 0.0; … ; 0.0 0.0 … 1.0 0.0; 0.0 0.0 … 0.0 1.0]])"
      ]
     },
     "execution_count": 8,
     "metadata": {},
     "output_type": "execute_result"
    }
   ],
   "source": [
    "A = eye(leglist[1].chrs, leglist[1].dims)\n",
    "#SymMatrix(A)\n",
    "#struct MFix2{T}\n",
    "#    x::T\n",
    "#end\n",
    "As =[A]\n",
    "#MFix2(A)"
   ]
  },
  {
   "cell_type": "code",
   "execution_count": 12,
   "metadata": {},
   "outputs": [
    {
     "data": {
      "text/plain": [
       "true"
      ]
     },
     "execution_count": 12,
     "metadata": {},
     "output_type": "execute_result"
    }
   ],
   "source": [
    "As[1] === A"
   ]
  },
  {
   "cell_type": "code",
   "execution_count": 6,
   "metadata": {},
   "outputs": [
    {
     "data": {
      "text/plain": [
       "1-element Array{BB{Int64},1}:\n",
       " BB{Int64}(3)"
      ]
     },
     "execution_count": 6,
     "metadata": {},
     "output_type": "execute_result"
    }
   ],
   "source": [
    "abstract type AAA{T} end\n",
    "abstract type BBB{T} <: AAA{T} end\n",
    "struct AA{T<:Number} <: AAA{T} \n",
    "    a :: T\n",
    "    function AA(a::T) where{T}\n",
    "        if a > 5\n",
    "            error(\"as\")\n",
    "        else\n",
    "            new{T}(a)\n",
    "        end\n",
    "    end            \n",
    "end\n",
    "struct BB{T<:Number} <: BBB{T}\n",
    "    b :: T\n",
    "        function BB(b::T) where{T<:Number}\n",
    "        if b > 5\n",
    "            error(\"as\")\n",
    "        else\n",
    "            new{T}(b)\n",
    "        end\n",
    "    end \n",
    "end\n",
    "o = BB(3)\n",
    "ol = [o]"
   ]
  },
  {
   "cell_type": "code",
   "execution_count": 7,
   "metadata": {},
   "outputs": [
    {
     "data": {
      "text/plain": [
       "true"
      ]
     },
     "execution_count": 7,
     "metadata": {},
     "output_type": "execute_result"
    }
   ],
   "source": [
    "ol[1] === o"
   ]
  },
  {
   "cell_type": "code",
   "execution_count": null,
   "metadata": {},
   "outputs": [],
   "source": []
  }
 ],
 "metadata": {
  "kernelspec": {
   "display_name": "Julia 1.2.0",
   "language": "julia",
   "name": "julia-1.2"
  },
  "language_info": {
   "file_extension": ".jl",
   "mimetype": "application/julia",
   "name": "julia",
   "version": "1.2.0"
  }
 },
 "nbformat": 4,
 "nbformat_minor": 2
}
