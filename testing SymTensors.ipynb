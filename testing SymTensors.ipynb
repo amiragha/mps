{
 "cells": [
  {
   "cell_type": "code",
   "execution_count": 1,
   "metadata": {},
   "outputs": [],
   "source": [
    "using Revise"
   ]
  },
  {
   "cell_type": "code",
   "execution_count": 2,
   "metadata": {},
   "outputs": [],
   "source": [
    "push!(LOAD_PATH, \"/home/amir/work/mps/src/\");\n",
    "\n",
    "#using LinearAlgebra\n",
    "#import LinearAlgebra: mul!, rmul!, axpy!, axpby!, dot, norm\n",
    "\n",
    "#includet(\"src/leg.jl\")\n",
    "#includet(\"src/symtensor.jl\")\n",
    "using MatrixProductStateTools\n",
    "using SymTensors\n",
    "#using TensorOperations"
   ]
  },
  {
   "cell_type": "code",
   "execution_count": 12,
   "metadata": {},
   "outputs": [
    {
     "name": "stdout",
     "output_type": "stream",
     "text": [
      "\u001b[37m\u001b[1mTest Summary: | \u001b[22m\u001b[39m\u001b[32m\u001b[1mPass  \u001b[22m\u001b[39m\u001b[36m\u001b[1mTotal\u001b[22m\u001b[39m\n",
      "releg         | \u001b[32m   3  \u001b[39m\u001b[36m    3\u001b[39m\n",
      "\u001b[37msimple: \u001b[39m\u001b[91m\u001b[1mError During Test\u001b[22m\u001b[39m at \u001b[39m\u001b[1m/home/amir/work/mps/test/symtensortests.jl:33\u001b[22m\n",
      "  Got exception outside of a @test\n",
      "  TypeError: in Vararg, in count, expected Int64, got Type{Int64}\n",
      "  Stacktrace:\n",
      "   [1] SymMatrix(::SymTensor{Float64,2}, ::Array{Int64,1}, ::Array{Int64,1}) at /home/amir/work/mps/src/contract.jl:64\n",
      "   [2] #contract#82(::Bool, ::typeof(contract), ::SymTensor{Float64,2}, ::Tuple{Int64,Int64}, ::SymTensor{Float64,2}, ::Tuple{Int64,Int64}) at /home/amir/work/mps/src/contract.jl:37\n",
      "   [3] contract(::SymTensor{Float64,2}, ::Tuple{Int64,Int64}, ::SymTensor{Float64,2}, ::Tuple{Int64,Int64}) at /home/amir/work/mps/src/contract.jl:17\n",
      "   [4] top-level scope at /home/amir/work/mps/test/symtensortests.jl:46\n",
      "   [5] top-level scope at /build/julia/src/julia-1.2.0/usr/share/julia/stdlib/v1.2/Test/src/Test.jl:1113\n",
      "   [6] top-level scope at /home/amir/work/mps/test/symtensortests.jl:34\n",
      "   [7] top-level scope at /build/julia/src/julia-1.2.0/usr/share/julia/stdlib/v1.2/Test/src/Test.jl:1113\n",
      "   [8] top-level scope at /home/amir/work/mps/test/symtensortests.jl:33\n",
      "   [9] include(::String) at ./client.jl:431\n",
      "   [10] top-level scope at /home/amir/work/mps/test/runtests.jl:15\n",
      "   [11] include(::String) at ./client.jl:431\n",
      "   [12] top-level scope at In[12]:1\n",
      "   [13] eval at ./boot.jl:330 [inlined]\n",
      "   [14] softscope_include_string(::Module, ::String, ::String) at /home/amir/.julia/packages/SoftGlobalScope/cSbw5/src/SoftGlobalScope.jl:218\n",
      "   [15] execute_request(::ZMQ.Socket, ::IJulia.Msg) at /home/amir/.julia/packages/IJulia/fRegO/src/execute_request.jl:67\n",
      "   [16] #invokelatest#1 at ./essentials.jl:790 [inlined]\n",
      "   [17] invokelatest at ./essentials.jl:789 [inlined]\n",
      "   [18] eventloop(::ZMQ.Socket) at /home/amir/.julia/packages/IJulia/fRegO/src/eventloop.jl:8\n",
      "   [19] (::getfield(IJulia, Symbol(\"##15#18\")))() at ./task.jl:268\n",
      "  \n",
      "\u001b[37mmulti leg tensors: \u001b[39m\u001b[91m\u001b[1mError During Test\u001b[22m\u001b[39m at \u001b[39m\u001b[1m/home/amir/work/mps/test/symtensortests.jl:50\u001b[22m\n",
      "  Got exception outside of a @test\n",
      "  UndefVarError: randSymTensor not defined\n",
      "  Stacktrace:\n",
      "   [1] top-level scope at /home/amir/work/mps/test/symtensortests.jl:61\n",
      "   [2] top-level scope at /build/julia/src/julia-1.2.0/usr/share/julia/stdlib/v1.2/Test/src/Test.jl:1113\n",
      "   [3] top-level scope at /home/amir/work/mps/test/symtensortests.jl:51\n",
      "   [4] top-level scope at /build/julia/src/julia-1.2.0/usr/share/julia/stdlib/v1.2/Test/src/Test.jl:1113\n",
      "   [5] top-level scope at /home/amir/work/mps/test/symtensortests.jl:33\n",
      "   [6] include(::String) at ./client.jl:431\n",
      "   [7] top-level scope at /home/amir/work/mps/test/runtests.jl:15\n",
      "   [8] include(::String) at ./client.jl:431\n",
      "   [9] top-level scope at In[12]:1\n",
      "   [10] eval at ./boot.jl:330 [inlined]\n",
      "   [11] softscope_include_string(::Module, ::String, ::String) at /home/amir/.julia/packages/SoftGlobalScope/cSbw5/src/SoftGlobalScope.jl:218\n",
      "   [12] execute_request(::ZMQ.Socket, ::IJulia.Msg) at /home/amir/.julia/packages/IJulia/fRegO/src/execute_request.jl:67\n",
      "   [13] #invokelatest#1 at ./essentials.jl:790 [inlined]\n",
      "   [14] invokelatest at ./essentials.jl:789 [inlined]\n",
      "   [15] eventloop(::ZMQ.Socket) at /home/amir/.julia/packages/IJulia/fRegO/src/eventloop.jl:8\n",
      "   [16] (::getfield(IJulia, Symbol(\"##15#18\")))() at ./task.jl:268\n",
      "  \n",
      "\u001b[37m\u001b[1mTest Summary:       | \u001b[22m\u001b[39m\u001b[91m\u001b[1mError  \u001b[22m\u001b[39m\u001b[36m\u001b[1mTotal\u001b[22m\u001b[39m\n",
      "contract            | \u001b[91m    2  \u001b[39m\u001b[36m    2\u001b[39m\n",
      "  simple            | \u001b[91m    1  \u001b[39m\u001b[36m    1\u001b[39m\n",
      "  multi leg tensors | \u001b[91m    1  \u001b[39m\u001b[36m    1\u001b[39m\n"
     ]
    },
    {
     "ename": "LoadError",
     "evalue": "LoadError: Some tests did not pass: 0 passed, 0 failed, 2 errored, 0 broken.\nin expression starting at /home/amir/work/mps/test/symtensortests.jl:31",
     "output_type": "error",
     "traceback": [
      "LoadError: Some tests did not pass: 0 passed, 0 failed, 2 errored, 0 broken.\nin expression starting at /home/amir/work/mps/test/symtensortests.jl:31",
      "",
      "Stacktrace:",
      " [1] finish(::Test.DefaultTestSet) at /build/julia/src/julia-1.2.0/usr/share/julia/stdlib/v1.2/Test/src/Test.jl:877",
      " [2] top-level scope at /build/julia/src/julia-1.2.0/usr/share/julia/stdlib/v1.2/Test/src/Test.jl:1123",
      " [3] top-level scope at /home/amir/work/mps/test/symtensortests.jl:33",
      " [4] include(::String) at ./client.jl:431",
      " [5] top-level scope at /home/amir/work/mps/test/runtests.jl:15",
      " [6] include(::String) at ./client.jl:431",
      " [7] top-level scope at In[12]:1"
     ]
    }
   ],
   "source": [
    "include(\"/home/amir/work/mps/test/runtests.jl\")"
   ]
  },
  {
   "cell_type": "code",
   "execution_count": 5,
   "metadata": {},
   "outputs": [
    {
     "name": "stdout",
     "output_type": "stream",
     "text": [
      "SymTensors._allsectorsandsizes(0, legs) = (Tuple{Int64,Int64,Int64}[(0, 0, 0), (1, 0, 1), (0, 1, 1)], Tuple{Int64,Int64,Int64}[(2, 1, 3), (3, 1, 4), (2, 1, 4)])\n"
     ]
    },
    {
     "ename": "ErrorException",
     "evalue": "The given sectors and block-sizes do not match legs!",
     "output_type": "error",
     "traceback": [
      "The given sectors and block-sizes do not match legs!",
      "",
      "Stacktrace:",
      " [1] SymTensor(::Int64, ::Tuple{STLeg,STLeg,STLeg}, ::Array{Tuple{Int64,Int64,Int64},1}, ::Array{Array{Int64,3},1}) at /home/amir/work/mps/src/symtensor.jl:31",
      " [2] top-level scope at In[5]:9"
     ]
    }
   ],
   "source": [
    "legs = STLeg(+1, [0,1], [2,3]), STLeg(+1, [0,1], [1,1]), STLeg(-1, [0,1], [3,4])\n",
    "\n",
    "# note that all possible sector should be present\n",
    "sects = [(0, 0, 0), (0, 1, 1), (1, 0, 1), (1, 1, 0)]\n",
    "nzblks = [rand(1:9, 2,1,3), rand(1:9, 2,1,4), rand(1:9, 3,1,4), rand(1:9, 3,1,3)]\n",
    "\n",
    "perm = _sectors_sortperm(sects)\n",
    "@show SymTensors._allsectorsandsizes(0, legs)\n",
    "\n",
    "test = SymTensor(0, legs, sects[perm], nzblks[perm])\n",
    "ftest = fuselegs(test, +1, 1, 2)\n",
    "dftest = defuse_leg(ftest, 1, legs[1:2])\n",
    "@test dftest == test"
   ]
  },
  {
   "cell_type": "code",
   "execution_count": null,
   "metadata": {},
   "outputs": [],
   "source": [
    "smat = eye(Float64, 0, [0,1,2], [1,2,1])\n",
    "change_nzblk!(smat, (1,1), rand(2,2))\n",
    "display(smat)\n",
    "rlegs = (STLeg(+1, [0,1], [1,1]), STLeg(+1, [0,1], [1,1]))\n",
    "clegs = (STLeg(-1, [0,1], [1,1]), STLeg(-1, [0,1], [1,1]))\n",
    "sten = defuse_leg(defuse_leg(smat, 2, clegs), 1, rlegs)\n",
    "println(sten)\n",
    "sten.nzblks[1]"
   ]
  },
  {
   "cell_type": "code",
   "execution_count": null,
   "metadata": {},
   "outputs": [],
   "source": [
    "rmul!(sten, 2.)\n",
    "sten.nzblks[4]"
   ]
  },
  {
   "cell_type": "code",
   "execution_count": null,
   "metadata": {
    "scrolled": true
   },
   "outputs": [],
   "source": [
    "legs = STLeg(+1, [0,1], [2,3]), STLeg(+1, [0,1], [1,1]), STLeg(-1, [0,1], [3,4])\n",
    "\n",
    "sects = [(0, 0, 0), (0, 1, 1), (1, 0, 1), (1, 1, 0)]\n",
    "nzblks = float.([rand(1:9, 2,1,3), rand(1:9, 2,1,4), rand(1:9, 3,1,4), rand(1:9, 3,1,3)])\n",
    "\n",
    "#perm = collect(1:3)\n",
    "perm = _sectors_sortperm(sects)\n",
    "#println(perm)\n",
    "\n",
    "\n",
    "test = SymTensor(0, legs, sects[perm], nzblks[perm])\n",
    "ftest = fuse_conseqlegs(test, +1, 1, 2)\n",
    "dftest = defuse_leg(ftest, 1, legs[1:2])\n",
    "@show dftest == test\n",
    "\n",
    "#show(test)\n",
    "arr = array_representation(test)\n",
    "#display(arr[:,1,:])\n",
    "#display(arr[:,2,:])\n",
    "arr;"
   ]
  },
  {
   "cell_type": "code",
   "execution_count": null,
   "metadata": {},
   "outputs": [],
   "source": [
    "#leglist = STLeg(+1, [0, 1, 2], [2,3,4]), STLeg(-1, [0,1,2,3], [4,2,2,3]), STLeg(+1, [0, 1, 2], [3,5,2])\n",
    "#sten1 = randSymTensor(Float64, 0, leglist[1:2])\n",
    "#sten2 = fillSymTensor(1.0, 0, leglist[2:3])\n",
    "#@show sten1\n",
    "#@show sten2\n",
    "# question: should I include dimensions that are zero? Not any more an issue of course!"
   ]
  },
  {
   "cell_type": "code",
   "execution_count": null,
   "metadata": {},
   "outputs": [],
   "source": [
    "convert(SymTensor{ComplexF64, 3}, test)"
   ]
  },
  {
   "cell_type": "code",
   "execution_count": null,
   "metadata": {},
   "outputs": [],
   "source": [
    "#contest = contract(sten1, (1, -1), sten2, (-1, 2))\n",
    "#_contract_index_perm([3, -2, -3, 5, 1, -1]) == ([5,1,4], [6,2,3], [1,3,5])"
   ]
  },
  {
   "cell_type": "code",
   "execution_count": null,
   "metadata": {},
   "outputs": [],
   "source": [
    "# testing the contract\n",
    "#arr = array_representation(contest)\n",
    "#arr1 = array_representation(sten1)\n",
    "#arr2 = array_representation(sten2)\n",
    "#arr1*arr2 == arr"
   ]
  },
  {
   "cell_type": "code",
   "execution_count": null,
   "metadata": {},
   "outputs": [],
   "source": [
    "leglist = (\n",
    "    STLeg(+1, [0, 1, 2], [2,3,4]), \n",
    "    STLeg(-1, [0,1 , 2, 3], [4,2,2,3]), \n",
    "    STLeg(+1, [0, 1, 2], [3,5,2]),\n",
    "    STLeg(-1, [0, 1], [6,7]),\n",
    "    STLeg(+1, [0, 1], [6,7]),\n",
    "    STLeg(+1, [0,1,2,3,4], [2,3,4,5,6]),\n",
    "    STLeg(+1, [0,1], [2,3]),\n",
    "    STLeg(-1, [0,1,2], [3,4,5])\n",
    ")\n",
    "sten1 = randSymTensor(Float64, 0, leglist[1:4]);\n",
    "sten2 = randSymTensor(Float64, 0, leglist[5:8]);"
   ]
  },
  {
   "cell_type": "code",
   "execution_count": null,
   "metadata": {
    "scrolled": true
   },
   "outputs": [],
   "source": [
    "arr1 = array_representation(sten1)\n",
    "arr2 = array_representation(sten2)\n",
    "\n",
    "@time contest = contract(sten1, (1,2,3,-1), sten2, (-1,4,5,6));\n",
    "@time @tensor arr[a,b,c,e,f,g] := arr1[a,b,c,d] * arr2[d,e,f,g];\n",
    "\n",
    "@show arr == array_representation(contest);"
   ]
  },
  {
   "cell_type": "code",
   "execution_count": null,
   "metadata": {},
   "outputs": [],
   "source": [
    "contract(sten1, (1,2,3,-1), sten2, (-1,4,5,6))"
   ]
  },
  {
   "cell_type": "code",
   "execution_count": null,
   "metadata": {},
   "outputs": [],
   "source": [
    "legs = (STLeg(+1, [0,1], [1,1]), STLeg(+1, [0,1,2], [1,1,1]), STLeg(-1, [0,1,2,3], [1,1,1,1]))"
   ]
  },
  {
   "cell_type": "code",
   "execution_count": null,
   "metadata": {},
   "outputs": [],
   "source": [
    "SymTensors.fuse(+1, legs[[1,3]])"
   ]
  },
  {
   "cell_type": "code",
   "execution_count": null,
   "metadata": {},
   "outputs": [],
   "source": [
    "l = 4\n",
    "leglist = (\n",
    "    STLeg(+1, collect(0:l), rand(6:10, l+1)),\n",
    "    STLeg(-1, collect(0:l), rand(6:10, l+1)),\n",
    "    STLeg(+1, collect(0:l), rand(6:10, l+1)),\n",
    "    STLeg(-1, collect(0:l), rand(6:10, l+1)),\n",
    "    #STLeg(+1, collect(0:l), rand(6:10, l+1)),\n",
    "    #STLeg(-1, collect(0:l), rand(6:10, l+1)),\n",
    "    #STLeg(+1, collect(0:l), rand(6:10, l+1)),\n",
    "    #STLeg(-1, collect(0:l), rand(6:10, l+1)),\n",
    "    #STLeg(+1, collect(0:l), rand(6:10, l+1))\n",
    ")"
   ]
  },
  {
   "cell_type": "code",
   "execution_count": null,
   "metadata": {},
   "outputs": [],
   "source": [
    "#@show _allsectorsandsizes(0, leglist) == _allsectorsandsizes2(0, leglist)\n",
    "@time sects, sizes = _allsectorsandsizes(0, leglist)\n",
    "issorted(sects, lt=_sectorlessthan)"
   ]
  },
  {
   "cell_type": "code",
   "execution_count": null,
   "metadata": {},
   "outputs": [],
   "source": [
    "@time _allsectorsandsizes2(0, leglist)"
   ]
  },
  {
   "cell_type": "code",
   "execution_count": null,
   "metadata": {},
   "outputs": [],
   "source": [
    "length(sects)"
   ]
  },
  {
   "cell_type": "code",
   "execution_count": null,
   "metadata": {},
   "outputs": [],
   "source": [
    "rand(0, leglist);"
   ]
  },
  {
   "cell_type": "code",
   "execution_count": null,
   "metadata": {},
   "outputs": [],
   "source": [
    "A = eye(leglist[1].chrs, leglist[1].dims)\n",
    "#SymMatrix(A)\n",
    "#struct MFix2{T}\n",
    "#    x::T\n",
    "#end\n",
    "As =[A]\n",
    "#MFix2(A)"
   ]
  },
  {
   "cell_type": "code",
   "execution_count": null,
   "metadata": {},
   "outputs": [],
   "source": [
    "As[1] === A"
   ]
  },
  {
   "cell_type": "code",
   "execution_count": null,
   "metadata": {},
   "outputs": [],
   "source": [
    "abstract type AAA{T} end\n",
    "abstract type BBB{T} <: AAA{T} end\n",
    "struct AA{T<:Number} <: AAA{T} \n",
    "    a :: T\n",
    "    function AA(a::T) where{T}\n",
    "        if a > 5\n",
    "            error(\"as\")\n",
    "        else\n",
    "            new{T}(a)\n",
    "        end\n",
    "    end            \n",
    "end\n",
    "struct BB{T<:Number} <: BBB{T}\n",
    "    b :: T\n",
    "        function BB(b::T) where{T<:Number}\n",
    "        if b > 5\n",
    "            error(\"as\")\n",
    "        else\n",
    "            new{T}(b)\n",
    "        end\n",
    "    end \n",
    "end\n",
    "o = BB(3)\n",
    "ol = [o]"
   ]
  },
  {
   "cell_type": "code",
   "execution_count": null,
   "metadata": {},
   "outputs": [],
   "source": [
    "ol[1] === o"
   ]
  },
  {
   "cell_type": "code",
   "execution_count": null,
   "metadata": {},
   "outputs": [],
   "source": []
  }
 ],
 "metadata": {
  "kernelspec": {
   "display_name": "Julia 1.2.0",
   "language": "julia",
   "name": "julia-1.2"
  },
  "language_info": {
   "file_extension": ".jl",
   "mimetype": "application/julia",
   "name": "julia",
   "version": "1.2.0"
  }
 },
 "nbformat": 4,
 "nbformat_minor": 4
}
