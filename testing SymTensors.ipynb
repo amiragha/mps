{
 "cells": [
  {
   "cell_type": "code",
   "execution_count": 1,
   "metadata": {},
   "outputs": [],
   "source": [
    "using Revise"
   ]
  },
  {
   "cell_type": "code",
   "execution_count": 2,
   "metadata": {},
   "outputs": [],
   "source": [
    "push!(LOAD_PATH, \"/home/amir/work/mps/src/\");"
   ]
  },
  {
   "cell_type": "code",
   "execution_count": 3,
   "metadata": {},
   "outputs": [
    {
     "name": "stderr",
     "output_type": "stream",
     "text": [
      "┌ Info: Recompiling stale cache file /home/amir/.julia/compiled/v1.1/MatrixProductStateTools.ji for MatrixProductStateTools [top-level]\n",
      "└ @ Base loading.jl:1184\n"
     ]
    }
   ],
   "source": [
    "using MatrixProductStateTools\n",
    "using SymTensors\n",
    "using TensorOperations"
   ]
  },
  {
   "cell_type": "code",
   "execution_count": 4,
   "metadata": {
    "scrolled": true
   },
   "outputs": [
    {
     "name": "stdout",
     "output_type": "stream",
     "text": [
      "dftest == test = true\n"
     ]
    }
   ],
   "source": [
    "legs = STLeg(+1, [0,1], [2,3]), STLeg(+1, [0,1], [1,1]), STLeg(-1, [0,1], [3,4])\n",
    "\n",
    "sects = [(0, 0, 0), (0, 1, 1), (1, 0, 1), (1, 1, 0)]\n",
    "nzblks = [rand(1:9, 2,1,3), rand(1:9, 2,1,4), rand(1:9, 3,1,4), rand(1:9, 3,1,3)]\n",
    "\n",
    "#perm = collect(1:3)\n",
    "perm = _sectors_sortperm(sects)\n",
    "#println(perm)\n",
    "\n",
    "\n",
    "test = SymTensor(0, legs, sects[perm], nzblks[perm])\n",
    "ftest = fuse_conseqlegs(test, +1, 1, 2)\n",
    "dftest = defuse_leg(ftest, 1, legs[1:2])\n",
    "@show dftest == test\n",
    "\n",
    "#show(test)\n",
    "arr = array_representation(test)\n",
    "#display(arr[:,1,:])\n",
    "#display(arr[:,2,:])\n",
    "arr;"
   ]
  },
  {
   "cell_type": "code",
   "execution_count": null,
   "metadata": {},
   "outputs": [],
   "source": [
    "#leglist = STLeg(+1, [0, 1, 2], [2,3,4]), STLeg(-1, [0,1,2,3], [4,2,2,3]), STLeg(+1, [0, 1, 2], [3,5,2])\n",
    "#sten1 = randSymTensor(Float64, 0, leglist[1:2])\n",
    "#sten2 = fillSymTensor(1.0, 0, leglist[2:3])\n",
    "#@show sten1\n",
    "#@show sten2\n",
    "# question: should I include dimensions that are zero? Not any more an issue of course!"
   ]
  },
  {
   "cell_type": "code",
   "execution_count": null,
   "metadata": {},
   "outputs": [],
   "source": []
  },
  {
   "cell_type": "code",
   "execution_count": null,
   "metadata": {},
   "outputs": [],
   "source": [
    "#contest = contract(sten1, (1, -1), sten2, (-1, 2))\n",
    "#_contract_index_perm([3, -2, -3, 5, 1, -1]) == ([5,1,4], [6,2,3], [1,3,5])"
   ]
  },
  {
   "cell_type": "code",
   "execution_count": null,
   "metadata": {},
   "outputs": [],
   "source": [
    "# testing the contract\n",
    "#arr = array_representation(contest)\n",
    "#arr1 = array_representation(sten1)\n",
    "#arr2 = array_representation(sten2)\n",
    "#arr1*arr2 == arr"
   ]
  },
  {
   "cell_type": "code",
   "execution_count": null,
   "metadata": {},
   "outputs": [],
   "source": [
    "leglist = (\n",
    "    STLeg(+1, [0, 1, 2], [2,3,4]), \n",
    "    STLeg(-1, [0,1,2,3], [4,2,2,3]), \n",
    "    STLeg(+1, [0, 1, 2], [3,5,2]),\n",
    "    STLeg(-1, [0, 1], [6,7]),\n",
    "    STLeg(+1, [0, 1], [6,7]),\n",
    "    STLeg(+1, [0,1,2,3,4], [2,3,4,5,6]),\n",
    "    STLeg(+1, [0,1], [2,3]),\n",
    "    STLeg(-1, [0,1,2], [3,4,5])\n",
    ")\n",
    "sten1 = randSymTensor(Float64, 0, leglist[1:4]);\n",
    "sten2 = randSymTensor(Float64, 0, leglist[5:8]);"
   ]
  },
  {
   "cell_type": "code",
   "execution_count": null,
   "metadata": {
    "scrolled": true
   },
   "outputs": [],
   "source": [
    "arr1 = array_representation(sten1)\n",
    "arr2 = array_representation(sten2)\n",
    "\n",
    "@time contest = contract(sten1, (1,2,3,-1), sten2, (-1,4,5,6));\n",
    "@time @tensor arr[a,b,c,e,f,g] := arr1[a,b,c,d] * arr2[d,e,f,g];\n",
    "\n",
    "@show arr == array_representation(contest);"
   ]
  },
  {
   "cell_type": "code",
   "execution_count": null,
   "metadata": {},
   "outputs": [],
   "source": [
    "contract(sten1, (1,2,3,-1), sten2, (-1,4,5,6))"
   ]
  },
  {
   "cell_type": "code",
   "execution_count": null,
   "metadata": {},
   "outputs": [],
   "source": [
    "using ExactDiagonalizationTools\n",
    "using LinearAlgebra\n",
    "using KrylovKit"
   ]
  },
  {
   "cell_type": "code",
   "execution_count": null,
   "metadata": {},
   "outputs": [],
   "source": [
    "hamil, indexes = xxz_hamiltonian(4, mode=:U1)\n",
    "a = eigsolve(hamil, 1,:SR)\n",
    "a[2]"
   ]
  },
  {
   "cell_type": "code",
   "execution_count": null,
   "metadata": {},
   "outputs": [],
   "source": []
  }
 ],
 "metadata": {
  "kernelspec": {
   "display_name": "Julia 1.1.0",
   "language": "julia",
   "name": "julia-1.1"
  },
  "language_info": {
   "file_extension": ".jl",
   "mimetype": "application/julia",
   "name": "julia",
   "version": "1.1.1"
  }
 },
 "nbformat": 4,
 "nbformat_minor": 2
}
