{
 "cells": [
  {
   "cell_type": "code",
   "execution_count": 5,
   "metadata": {},
   "outputs": [],
   "source": [
    "using Revise"
   ]
  },
  {
   "cell_type": "code",
   "execution_count": 6,
   "metadata": {},
   "outputs": [],
   "source": [
    "push!(LOAD_PATH, \"/home/amir/work/mps/src/\");\n",
    "\n",
    "using MatrixProductStateTools\n",
    "using SymTensors\n",
    "using TensorOperations"
   ]
  },
  {
   "cell_type": "code",
   "execution_count": 33,
   "metadata": {},
   "outputs": [
    {
     "name": "stdout",
     "output_type": "stream",
     "text": [
      "\u001b[37m\u001b[1mTest Summary: | \u001b[22m\u001b[39m\u001b[32m\u001b[1mPass  \u001b[22m\u001b[39m\u001b[36m\u001b[1mTotal\u001b[22m\u001b[39m\n",
      " MPS stuff    | \u001b[32m   8  \u001b[39m\u001b[36m    8\u001b[39m\n",
      "\u001b[37m\u001b[1mTest Summary: | \u001b[22m\u001b[39m\u001b[32m\u001b[1mPass  \u001b[22m\u001b[39m\u001b[36m\u001b[1mTotal\u001b[22m\u001b[39m\n",
      "apply twosite | \u001b[32m   2  \u001b[39m\u001b[36m    2\u001b[39m\n",
      "\u001b[37m\u001b[1mTest Summary: | \u001b[22m\u001b[39m\u001b[32m\u001b[1mPass  \u001b[22m\u001b[39m\u001b[36m\u001b[1mTotal\u001b[22m\u001b[39m\n",
      "fuse, defuse  | \u001b[32m   3  \u001b[39m\u001b[36m    3\u001b[39m\n",
      "\u001b[37m\u001b[1mTest Summary: | \u001b[22m\u001b[39m\u001b[32m\u001b[1mPass  \u001b[22m\u001b[39m\u001b[36m\u001b[1mTotal\u001b[22m\u001b[39m\n",
      "contract      | \u001b[32m   2  \u001b[39m\u001b[36m    2\u001b[39m\n"
     ]
    },
    {
     "data": {
      "text/plain": [
       "Test.DefaultTestSet(\"contract\", Any[DefaultTestSet(\"simple\", Any[], 1, false), DefaultTestSet(\"multi leg tensors\", Any[], 1, false)], 0, false)"
      ]
     },
     "execution_count": 33,
     "metadata": {},
     "output_type": "execute_result"
    }
   ],
   "source": [
    "include(\"/home/amir/work/mps/test/runtests.jl\")"
   ]
  },
  {
   "cell_type": "code",
   "execution_count": null,
   "metadata": {},
   "outputs": [],
   "source": [
    "smat = eye(Float64, 0, [0,1,2], [1,2,1])\n",
    "change_nzblk!(smat, (1,1), rand(2,2))\n",
    "display(smat)\n",
    "rlegs = (STLeg(+1, [0,1], [1,1]), STLeg(+1, [0,1], [1,1]))\n",
    "clegs = (STLeg(-1, [0,1], [1,1]), STLeg(-1, [0,1], [1,1]))\n",
    "sten = defuse_leg(defuse_leg(smat, 2, clegs), 1, rlegs)\n",
    "sten.nzblks[1]"
   ]
  },
  {
   "cell_type": "code",
   "execution_count": null,
   "metadata": {
    "scrolled": true
   },
   "outputs": [],
   "source": [
    "legs = STLeg(+1, [0,1], [2,3]), STLeg(+1, [0,1], [1,1]), STLeg(-1, [0,1], [3,4])\n",
    "\n",
    "sects = [(0, 0, 0), (0, 1, 1), (1, 0, 1), (1, 1, 0)]\n",
    "nzblks = float.([rand(1:9, 2,1,3), rand(1:9, 2,1,4), rand(1:9, 3,1,4), rand(1:9, 3,1,3)])\n",
    "\n",
    "#perm = collect(1:3)\n",
    "perm = _sectors_sortperm(sects)\n",
    "#println(perm)\n",
    "\n",
    "\n",
    "test = SymTensor(0, legs, sects[perm], nzblks[perm])\n",
    "ftest = fuse_conseqlegs(test, +1, 1, 2)\n",
    "dftest = defuse_leg(ftest, 1, legs[1:2])\n",
    "@show dftest == test\n",
    "\n",
    "#show(test)\n",
    "arr = array_representation(test)\n",
    "#display(arr[:,1,:])\n",
    "#display(arr[:,2,:])\n",
    "arr;"
   ]
  },
  {
   "cell_type": "code",
   "execution_count": null,
   "metadata": {},
   "outputs": [],
   "source": [
    "#leglist = STLeg(+1, [0, 1, 2], [2,3,4]), STLeg(-1, [0,1,2,3], [4,2,2,3]), STLeg(+1, [0, 1, 2], [3,5,2])\n",
    "#sten1 = randSymTensor(Float64, 0, leglist[1:2])\n",
    "#sten2 = fillSymTensor(1.0, 0, leglist[2:3])\n",
    "#@show sten1\n",
    "#@show sten2\n",
    "# question: should I include dimensions that are zero? Not any more an issue of course!"
   ]
  },
  {
   "cell_type": "code",
   "execution_count": null,
   "metadata": {},
   "outputs": [],
   "source": [
    "convert(SymTensor{ComplexF64, 3}, test)"
   ]
  },
  {
   "cell_type": "code",
   "execution_count": null,
   "metadata": {},
   "outputs": [],
   "source": [
    "#contest = contract(sten1, (1, -1), sten2, (-1, 2))\n",
    "#_contract_index_perm([3, -2, -3, 5, 1, -1]) == ([5,1,4], [6,2,3], [1,3,5])"
   ]
  },
  {
   "cell_type": "code",
   "execution_count": null,
   "metadata": {},
   "outputs": [],
   "source": [
    "# testing the contract\n",
    "#arr = array_representation(contest)\n",
    "#arr1 = array_representation(sten1)\n",
    "#arr2 = array_representation(sten2)\n",
    "#arr1*arr2 == arr"
   ]
  },
  {
   "cell_type": "code",
   "execution_count": null,
   "metadata": {},
   "outputs": [],
   "source": [
    "leglist = (\n",
    "    STLeg(+1, [0, 1, 2], [2,3,4]), \n",
    "    STLeg(-1, [0,1,2,3], [4,2,2,3]), \n",
    "    STLeg(+1, [0, 1, 2], [3,5,2]),\n",
    "    STLeg(-1, [0, 1], [6,7]),\n",
    "    STLeg(+1, [0, 1], [6,7]),\n",
    "    STLeg(+1, [0,1,2,3,4], [2,3,4,5,6]),\n",
    "    STLeg(+1, [0,1], [2,3]),\n",
    "    STLeg(-1, [0,1,2], [3,4,5])\n",
    ")\n",
    "sten1 = randSymTensor(Float64, 0, leglist[1:4]);\n",
    "sten2 = randSymTensor(Float64, 0, leglist[5:8]);"
   ]
  },
  {
   "cell_type": "code",
   "execution_count": null,
   "metadata": {
    "scrolled": true
   },
   "outputs": [],
   "source": [
    "arr1 = array_representation(sten1)\n",
    "arr2 = array_representation(sten2)\n",
    "\n",
    "@time contest = contract(sten1, (1,2,3,-1), sten2, (-1,4,5,6));\n",
    "@time @tensor arr[a,b,c,e,f,g] := arr1[a,b,c,d] * arr2[d,e,f,g];\n",
    "\n",
    "@show arr == array_representation(contest);"
   ]
  },
  {
   "cell_type": "code",
   "execution_count": null,
   "metadata": {},
   "outputs": [],
   "source": [
    "contract(sten1, (1,2,3,-1), sten2, (-1,4,5,6))"
   ]
  }
 ],
 "metadata": {
  "kernelspec": {
   "display_name": "Julia 1.1.0",
   "language": "julia",
   "name": "julia-1.1"
  },
  "language_info": {
   "file_extension": ".jl",
   "mimetype": "application/julia",
   "name": "julia",
   "version": "1.1.1"
  }
 },
 "nbformat": 4,
 "nbformat_minor": 2
}
