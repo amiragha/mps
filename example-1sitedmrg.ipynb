{
 "cells": [
  {
   "cell_type": "code",
   "execution_count": null,
   "metadata": {},
   "outputs": [],
   "source": [
    "using Revise"
   ]
  },
  {
   "cell_type": "code",
   "execution_count": null,
   "metadata": {},
   "outputs": [],
   "source": [
    "push!(LOAD_PATH, \"/home/amir/work/mps/src/\")\n",
    "\n",
    "using ExactDiagonalizationTools\n",
    "using MatrixProductStateTools\n",
    "using TensorNetAlgs\n",
    "using Random\n",
    "using Plots"
   ]
  },
  {
   "cell_type": "markdown",
   "metadata": {},
   "source": [
    "# Testing DMRG 1site algorithm"
   ]
  },
  {
   "cell_type": "code",
   "execution_count": null,
   "metadata": {},
   "outputs": [],
   "source": [
    "lx = 16\n",
    "maxdim = 40\n",
    "\n",
    "rng = MersenneTwister(1234)\n",
    "mps = randmps(Float64, lx, 2, maxdim, rng=rng);\n",
    "mpo = xxz_mpo(Float64, lx, 2, 1.0)\n",
    "move_center!(mps, 1)\n",
    "env = initialenv(mps, mpo);\n",
    "\n",
    "### testing DMRG 1site algorithm\n",
    "for sweep = 1:5\n",
    "    println(\"Starting sweep number $sweep\")\n",
    "    dmrg1sitesweep!(mps, mpo, env, verbose=false)\n",
    "    println()\n",
    "end\n"
   ]
  },
  {
   "cell_type": "code",
   "execution_count": null,
   "metadata": {},
   "outputs": [],
   "source": [
    "println(\"Energy : \", measure_mpo(mps, mpo))\n",
    "sz = spinoperators(1/2)[1]\n",
    "data = measure_2point(mps, sz, sz);\n",
    "plot(data[[half_measurement_index(lx, 1, l) for l in 2:lx-1]])"
   ]
  },
  {
   "cell_type": "code",
   "execution_count": null,
   "metadata": {},
   "outputs": [],
   "source": []
  }
 ],
 "metadata": {
  "kernelspec": {
   "display_name": "Julia 1.2.0",
   "language": "julia",
   "name": "julia-1.2"
  },
  "language_info": {
   "file_extension": ".jl",
   "mimetype": "application/julia",
   "name": "julia",
   "version": "1.2.0"
  }
 },
 "nbformat": 4,
 "nbformat_minor": 4
}
